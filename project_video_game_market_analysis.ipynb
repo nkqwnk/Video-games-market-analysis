{
 "cells": [
  {
   "cell_type": "markdown",
   "id": "bd97ade0",
   "metadata": {},
   "source": [
    "# Анализ международного рынка видеоигр"
   ]
  },
  {
   "cell_type": "markdown",
   "id": "6be688ab",
   "metadata": {},
   "source": [
    "Наш проект состоит в исследовании различных особенностей данных о международных продажах видеоигр.<br>\n",
    "Нами будет проведена обработка соответствующего набора данных, на основании которой мы исследуем параметры, присущие каждой проданной игре (жанр, оценку критиков и пользователей, игровую платформу и .т.д.), которые потенциально могут влияет на ее продажи.<br>\n",
    "Кроме этого, мы составим приблизительный портрет пользователя из каждого региона, по которому есть данные о продажах, исследовав популярные в этом регионе игровые платформы, жанры, также будет проведен анализ самых часто встречающихся игровых рейтингов в каждом из этих регионов.<br>\n",
    "Наконец, будут проведены проверки статистических гипотез о средних пользовательских оценках игр, выпущенных под определенную платформу, имеющих тот или иной жанр.<br>\n",
    "Результатом проекта станут некоторые предположения о том, какие из параметров объектов из набора данных потенциально способны влиять на его продажи."
   ]
  },
  {
   "cell_type": "markdown",
   "id": "0af17ae7",
   "metadata": {},
   "source": [
    "## 1. Обзор и подготовка данных"
   ]
  },
  {
   "cell_type": "markdown",
   "id": "c009bf86",
   "metadata": {},
   "source": [
    "Для начала импортируем необходимые библиотеки:\n",
    "1. pandas для работы с набором данных\n",
    "2. numpy для работы с NaN и массивами\n",
    "3. plotly для интерактивной визуализации\n",
    "4. missingno для визуального анализа пропусков в данных\n",
    "5. scipy для проверки гипотез"
   ]
  },
  {
   "cell_type": "code",
   "execution_count": null,
   "id": "2142c640",
   "metadata": {},
   "outputs": [],
   "source": [
    "#!pip install missingno"
   ]
  },
  {
   "cell_type": "code",
   "execution_count": null,
   "id": "3793527a",
   "metadata": {},
   "outputs": [],
   "source": [
    "import pandas as pd\n",
    "import numpy as np\n",
    "import plotly.express as px\n",
    "import missingno as msno\n",
    "from scipy import stats as st"
   ]
  },
  {
   "cell_type": "markdown",
   "id": "c4136e79",
   "metadata": {},
   "source": [
    "Теперь сохраним датасет в переменную games:"
   ]
  },
  {
   "cell_type": "code",
   "execution_count": null,
   "id": "bff36518",
   "metadata": {},
   "outputs": [],
   "source": [
    "try:\n",
    "    games = pd.read_csv('games.csv')\n",
    "except:\n",
    "    games = pd.read_csv('/datasets/games.csv')"
   ]
  },
  {
   "cell_type": "markdown",
   "id": "40338e2a",
   "metadata": {},
   "source": [
    "Посмотрим, какой вид имеет набор данных, для чего выведем его первые 5 строк:"
   ]
  },
  {
   "cell_type": "code",
   "execution_count": null,
   "id": "734cb561",
   "metadata": {
    "scrolled": true
   },
   "outputs": [],
   "source": [
    "games.head()"
   ]
  },
  {
   "cell_type": "markdown",
   "id": "8e83646b",
   "metadata": {},
   "source": [
    "Как видим, данные разбиты на три информационных блока. *Первый* состоит из основной информации об игре - ее название, платформа, для которой она выпущена, года релиза и игрового жанра. *Второй* содержит в себе данные о продажах игр по регионам - Северная Америка, Европейский Союз, Япония, другие продажи. В *третьем* блоке расположены данные об оценках критиков, пользователей и о рейтинге игры. "
   ]
  },
  {
   "cell_type": "markdown",
   "id": "a335abfe",
   "metadata": {},
   "source": [
    "**Приведем названия столбцов к нижнему регистру**:"
   ]
  },
  {
   "cell_type": "code",
   "execution_count": null,
   "id": "36905fda",
   "metadata": {},
   "outputs": [],
   "source": [
    "games.columns = games.columns.str.lower()"
   ]
  },
  {
   "cell_type": "markdown",
   "id": "b561bdd3",
   "metadata": {},
   "source": [
    "Получим общую информацию о датафрейме и **осуществим преобразование типов**:"
   ]
  },
  {
   "cell_type": "code",
   "execution_count": null,
   "id": "8eed8d86",
   "metadata": {},
   "outputs": [],
   "source": [
    "games.info()"
   ]
  },
  {
   "cell_type": "markdown",
   "id": "00e1c78f",
   "metadata": {},
   "source": [
    "Заметим, что в столбце 'user_score' встречается строковое значение 'tbd', представляющее собой аббревиатуру от to be decided/to be determined ([источник](https://dictionary.cambridge.org/dictionary/english/tbd))<br>\n",
    "Проще говоря, значение пользовательствого рейтинга в этих строках неизвестно. Тогда заменим его на NaN:"
   ]
  },
  {
   "cell_type": "code",
   "execution_count": null,
   "id": "6bc8cce5",
   "metadata": {},
   "outputs": [],
   "source": [
    "games['user_score'].replace('tbd', np.nan, inplace=True)"
   ]
  },
  {
   "cell_type": "markdown",
   "id": "628e2703",
   "metadata": {},
   "source": [
    "После приведем этот же столбец к типу float:"
   ]
  },
  {
   "cell_type": "code",
   "execution_count": null,
   "id": "ff1324ef",
   "metadata": {},
   "outputs": [],
   "source": [
    "games['user_score'] = games['user_score'].astype('float')"
   ]
  },
  {
   "cell_type": "markdown",
   "id": "f4d9c804",
   "metadata": {},
   "source": [
    "Наконец, проведем нисходящее преобразование числовых данных, чтобы оптимизировать расход памяти:"
   ]
  },
  {
   "cell_type": "code",
   "execution_count": null,
   "id": "6dddca4a",
   "metadata": {},
   "outputs": [],
   "source": [
    "games_float = games.select_dtypes(include=['float'])#Пользуемся методом DataFrame.select_dtypes() для выбора столбцов, \n",
    "                                                    #хранящих числа с плавающей точкой\n",
    "converted_float = games_float.apply(pd.to_numeric, downcast='float')#Осуществляем нисходящее преобразование типов\n",
    "games[converted_float.columns] = converted_float#Перезаписываем соответствующие столбцы в games"
   ]
  },
  {
   "cell_type": "markdown",
   "id": "8a4798f8",
   "metadata": {},
   "source": [
    "Уточним формат отображения вещественных чисел:"
   ]
  },
  {
   "cell_type": "code",
   "execution_count": null,
   "id": "e280510a",
   "metadata": {},
   "outputs": [],
   "source": [
    "pd.options.display.float_format = '{:.2f}'.format"
   ]
  },
  {
   "cell_type": "markdown",
   "id": "16f480cb",
   "metadata": {},
   "source": [
    "Теперь **совершим обработку пропусков**, для чего оценим их количество в датафрейме:"
   ]
  },
  {
   "cell_type": "code",
   "execution_count": null,
   "id": "1b203f5c",
   "metadata": {},
   "outputs": [],
   "source": [
    "msno.bar(games)"
   ]
  },
  {
   "cell_type": "markdown",
   "id": "01fd5c3a",
   "metadata": {},
   "source": [
    "Как видно, все колонки кроме тех, что содержат информацию об игровой платформе и продажах, содержат то или иное количество пропусков, особенно большим оно является в столбцах с оценкой и рейтингом игр. "
   ]
  },
  {
   "cell_type": "markdown",
   "id": "da72854a",
   "metadata": {},
   "source": [
    "Для начала разберемся с пропусками в столбцах 'name' и 'genre' - их всего по 2 штуки в каждом. Выведем строки с пропусками в этих столбцах:"
   ]
  },
  {
   "cell_type": "code",
   "execution_count": null,
   "id": "4ad7c49f",
   "metadata": {},
   "outputs": [],
   "source": [
    "games.query('name.isna() or genre.isna()')"
   ]
  },
  {
   "cell_type": "markdown",
   "id": "50a3b04d",
   "metadata": {},
   "source": [
    "Как видим, таких строк 2 - в каждой значения нужных нам столбцов пропущены. Кроме того, пропущены и значения в столбцах, содержащих информацию об оценке и рейтинге игр. Предположим, что эти пробелы вызваны ошибкой сбора информации о продажах. Скажем, что эти две строки дают нам слишком мало информации и удалим их:"
   ]
  },
  {
   "cell_type": "code",
   "execution_count": null,
   "id": "9890983d",
   "metadata": {},
   "outputs": [],
   "source": [
    "games = games.dropna(subset=['name', 'genre'])"
   ]
  },
  {
   "cell_type": "markdown",
   "id": "d63e95df",
   "metadata": {},
   "source": [
    "Теперь обратимся к столбцу 'year_of_release'. Кажется, что пропуски в нем хотя бы частично можно было заполнить годом выхода той же игры, но на другой платформе. Проблема заключается в том, что зачастую версии игры на разных плафтормах могут выходить с разницей в год и больше. Примем решение оставить пропуски, а не заполнять их неточными данными."
   ]
  },
  {
   "cell_type": "markdown",
   "id": "d4690f07",
   "metadata": {},
   "source": [
    "По той же логике, хотя их и можно заполнить медианным значением по имени игры или платформе, не будем трогать столбцы 'critic_score' и 'user_score'. А вот в столбце 'rating' заменим пропуски строкой 'unknown':"
   ]
  },
  {
   "cell_type": "code",
   "execution_count": null,
   "id": "dc361d41",
   "metadata": {},
   "outputs": [],
   "source": [
    "games['rating'] = games['rating'].fillna('unknown')"
   ]
  },
  {
   "cell_type": "markdown",
   "id": "36c10b24",
   "metadata": {},
   "source": [
    "Причиной пропусков в столбцах 'year_of_release', 'critic_score' и 'user_score' служат, судя по всему, ошибки в сборе данных или в формировании датафрейма. "
   ]
  },
  {
   "cell_type": "markdown",
   "id": "8fa1097f",
   "metadata": {},
   "source": [
    "Наконец, **создадим столбец с суммарными продажами** во всех регионах:"
   ]
  },
  {
   "cell_type": "code",
   "execution_count": null,
   "id": "ac18e0cc",
   "metadata": {},
   "outputs": [],
   "source": [
    "games['total_sales'] = games['na_sales'] + games['eu_sales'] + games['jp_sales'] + games['other_sales']"
   ]
  },
  {
   "cell_type": "markdown",
   "id": "143b127a",
   "metadata": {},
   "source": [
    "В качестве обработки данных, предваряющих исследование, названия столбцов были приведены к нижнему регистру. Затем провели обзор типов данных, которыми записываются значения каждого столбца, типы для числовых столбцов были заменены в целях оптимизации использования памяти. После были исследованы пропуски в датафрейме, для столбцов 'name', 'genre' они были удалены, для столбца 'rating' - заменыны на 'unknown', для остальных было принято решение о целесообразности \"оставить все как есть\", чтобы не вносить в датафрейм неточные данные, могущие навредить на этапе анализа. "
   ]
  },
  {
   "cell_type": "markdown",
   "id": "fa12559c",
   "metadata": {},
   "source": [
    "## 2. Исследовательский анализ данных"
   ]
  },
  {
   "cell_type": "markdown",
   "id": "dcead13f",
   "metadata": {},
   "source": [
    "**Посмотрим, сколько игр выпускалось в разные годы**."
   ]
  },
  {
   "cell_type": "markdown",
   "id": "68d3a68c",
   "metadata": {},
   "source": [
    "Создадим таблицу, где индексами будут годы релиза, а значениями - количество выпущенных игр:"
   ]
  },
  {
   "cell_type": "code",
   "execution_count": null,
   "id": "672defff",
   "metadata": {},
   "outputs": [],
   "source": [
    "games_by_year = games.pivot_table(index='year_of_release', values='name', aggfunc='count')"
   ]
  },
  {
   "cell_type": "markdown",
   "id": "9070ece0",
   "metadata": {},
   "source": [
    "Построим по этой таблице столбчатую диаграмму:"
   ]
  },
  {
   "cell_type": "code",
   "execution_count": null,
   "id": "35872f0b",
   "metadata": {},
   "outputs": [],
   "source": [
    "fig = px.bar(games_by_year, x=games_by_year.index, y='name', title='Выпуск игр по годам')\n",
    "fig.show()"
   ]
  },
  {
   "cell_type": "markdown",
   "id": "b89d5bbf",
   "metadata": {},
   "source": [
    "Для более детального понимания выведем еще и статистические характеристики для этой таблицы (из процентилей выведем только медиану):"
   ]
  },
  {
   "cell_type": "code",
   "execution_count": null,
   "id": "8cf1e201",
   "metadata": {},
   "outputs": [],
   "source": [
    "games_by_year.describe(percentiles=[.5])"
   ]
  },
  {
   "cell_type": "markdown",
   "id": "a64a3014",
   "metadata": {},
   "source": [
    "Как видим, размах данных весьма велик - от 9 игр, выпущенных в 1980 году, до 1427, выпущенных в 2008. В среднем за 37 лет, доступных нам для анализа, за год выходило 338 игр (медианное значение, не зависящее от сильного разброса). Активный рост выпуска игр начался с 1990 года и завершился в 2008, где количество игровых релизов, как мы уже определили, достигло максимума. Затем последовало снижение выпуска вплоть до 2013 года, с которого наблюдаем рост, происходящий низким темпом до 2015 года, после чего снова видим падение выпуска (но не будем забывать, что данные за 2016 могут быть неполными). Похоже что для прогнозов на будущие года, нам не понадобятся \"слишком старые\" данные. Уточним данную интуицию далее."
   ]
  },
  {
   "cell_type": "markdown",
   "id": "206952e0",
   "metadata": {},
   "source": [
    "**Проведем анализ изменения продаж по платформам**. Сначала построим таблицу, которая поможет определить лидеров по продажам среди разных платформ:"
   ]
  },
  {
   "cell_type": "code",
   "execution_count": null,
   "id": "04d028b1",
   "metadata": {},
   "outputs": [],
   "source": [
    "sales_by_platform = games.pivot_table(index='platform', values='total_sales', aggfunc='sum').sort_values(by='total_sales', ascending=False)\n",
    "sales_by_platform"
   ]
  },
  {
   "cell_type": "markdown",
   "id": "d058bc45",
   "metadata": {},
   "source": [
    "Возьмем для анализа первую десятку по продажам и построим для них сводную таблицу:"
   ]
  },
  {
   "cell_type": "code",
   "execution_count": null,
   "id": "7f8d04d1",
   "metadata": {
    "scrolled": true
   },
   "outputs": [],
   "source": [
    "top_platforms = ['PS2', 'X360', 'PS3', 'Wii', 'DS', 'PS', 'GBA', 'PS4', 'PSP', 'PC']#Создаем список из первых 10 платформ\n",
    "games_for_top_platforms = games.query('platform in @top_platforms')#По нему создаем срез оригинального набора\n",
    "\n",
    "sales_by_top_platforms = games_for_top_platforms.pivot_table(columns='platform', index='year_of_release',#Строим сводную\n",
    "                                                             values='total_sales', aggfunc='sum')#таблицу"
   ]
  },
  {
   "cell_type": "markdown",
   "id": "30592514",
   "metadata": {},
   "source": [
    "Теперь же для этой таблицы выведем столбчатую диаграмму с разделением каждого столбца по платформам:"
   ]
  },
  {
   "cell_type": "code",
   "execution_count": null,
   "id": "2a9d167c",
   "metadata": {},
   "outputs": [],
   "source": [
    "fig = px.bar(sales_by_top_platforms, x=sales_by_top_platforms.index, \n",
    "             y=['DS', 'GBA', 'PC', 'PS', 'PS2', 'PS3', 'PS4', 'PSP', 'Wii', 'X360'],\n",
    "             title='Выпуск игр по годам для 10 самых популярных платформ')\n",
    "fig.update_xaxes(range=[1991,2017])\n",
    "fig.show()"
   ]
  },
  {
   "cell_type": "markdown",
   "id": "8738d3bd",
   "metadata": {},
   "source": [
    "На графике видим следующую \"живучесть\" платформ: \n",
    "PC - 24 года, PS - 9 лет, PS2 - 11 лет, GBA - 6 лет, DS - 9 лет, PSP - 10 лет, X360 - 11 лет, PS3 - 11 лет, Wii - 9 лет и PS4 - 4 года. Медианное значение этого набора - 9.5 лет. То есть, игровая платформа остается актуальной 9-10 лет."
   ]
  },
  {
   "cell_type": "code",
   "execution_count": null,
   "id": "e1571aab",
   "metadata": {},
   "outputs": [],
   "source": [
    "years = pd.Series([24, 9, 11, 6, 9, 10, 11, 11, 9, 4])#Создаем серию из продолжительности \"жизни\" популярных платформ\n",
    "years.median()#Находим медианную \"живучесть\""
   ]
  },
  {
   "cell_type": "markdown",
   "id": "e67f60e5",
   "metadata": {},
   "source": [
    "Еще раз взглянув на графики, заметим, что период активного роста продаж для каждой платформы составляет примерно половину ее \"жизненного цикла\" - 3-4 года. Приняв это во внимание, *выберем в качестве актуального периода для исследования четырехлетний интервал с 2013 по 2016 год* - в эти годы сохраняются тендеции для основных платформ, активных на момент 2011 года (тенденции к падению продаж), и начинают проявляться новые (появление и рост продаж для PS4). "
   ]
  },
  {
   "cell_type": "markdown",
   "id": "600dffe3",
   "metadata": {},
   "source": [
    "Оставим в нашем наборе лишь данные за необходимые года и **проведем обзор и сравнение продаж по каждой платформе за этот период**."
   ]
  },
  {
   "cell_type": "markdown",
   "id": "d4692513",
   "metadata": {},
   "source": [
    "Чтобы получить данные за актуальный период по всем платформам:"
   ]
  },
  {
   "cell_type": "code",
   "execution_count": null,
   "id": "3520fe93",
   "metadata": {},
   "outputs": [],
   "source": [
    "sales_by_top_platforms_actual = (games\n",
    "                                 .query('year_of_release >= 2013 and year_of_release <= 2016')\n",
    "                                 .pivot_table(index='year_of_release', columns='platform', values='total_sales', aggfunc='sum'))"
   ]
  },
  {
   "cell_type": "markdown",
   "id": "828e6f58",
   "metadata": {},
   "source": [
    "Взглянем на получившийся датафрейм:"
   ]
  },
  {
   "cell_type": "code",
   "execution_count": null,
   "id": "1f673755",
   "metadata": {
    "scrolled": true
   },
   "outputs": [],
   "source": [
    "sales_by_top_platforms_actual"
   ]
  },
  {
   "cell_type": "markdown",
   "id": "dec03c46",
   "metadata": {},
   "source": [
    "Заметим, что по платформе DS  в этот пеирод нам доступно лишь одно наблюдение, так что этот столбец удаляем:"
   ]
  },
  {
   "cell_type": "code",
   "execution_count": null,
   "id": "2e91315a",
   "metadata": {},
   "outputs": [],
   "source": [
    "sales_by_top_platforms_actual = sales_by_top_platforms_actual.drop('DS', axis=1)"
   ]
  },
  {
   "cell_type": "code",
   "execution_count": null,
   "id": "025d935d",
   "metadata": {},
   "outputs": [],
   "source": [
    "sales_by_top_platforms_actual.columns"
   ]
  },
  {
   "cell_type": "markdown",
   "id": "218772e8",
   "metadata": {},
   "source": [
    "Теперь построим линейный график, где каждому году нужного нам периода будет соответствовать суммарная годовая продажа игр для каждой платформы, если игры для нее выходили в этом году: "
   ]
  },
  {
   "cell_type": "code",
   "execution_count": null,
   "id": "e86d3f36",
   "metadata": {},
   "outputs": [],
   "source": [
    "fig = px.line(sales_by_top_platforms_actual, x=sales_by_top_platforms_actual.index, \n",
    "              y=['3DS', 'PC', 'PS3', 'PS4', 'PSP', 'PSV', 'Wii', 'WiiU', 'X360', 'XOne'], markers=True,\n",
    "              title='Продажи игр за 2013-2016 годы')\n",
    "fig.show()"
   ]
  },
  {
   "cell_type": "markdown",
   "id": "53932bef",
   "metadata": {},
   "source": [
    "Как следует из графика, в начале наблюдений лидерами по продажам были платформы PS3, X360 и 3DS, в 2014 году уступившие PS4 и XOne, которые стремительно выросли в продажах за 2013 год. Информации на 2016 год нет об играх для PSP, что, как мы помним, может быть вызвано неполнотой данных за этот год. С другой стороны, даже если предположить, что продажи игр на PSP в 2016 году были - скорее всего, их сумма была весьма низкой, ведь эта платформа демонстрировала постоянное падение продаж, которые в 2015 году оказались в нуле.<br>\n",
    "Видим, что, за некоторыми временными исключениями (рост продаж игр под PS4 и XOne в 2013-2014 годах), график демонстрирует устойчивую тенденцию к падению выручки от игр для всех платформ. Ниже всего она у игр на таких платформах как PSP, Wii, PSV и X360, которая со второго места по продажам в 2013 к концу наблюдаемого периода спустилась на предпоследнее. <br>\n",
    "*Среди тех, что в 2015-2016 годах показывали наибольшие среди остальных продажи, и могут потенциально остаться среди лидеров и дальше, - игры для платформ PS4, XOne, и 3DS*. PS4 являетя абсолютным лидером почти весь период наблюдений, XOne - уверенно располагается на втором месте, 3DS благодаря относительно плавному падению продаж оказалась в 2015-2016 годах на том же третьем месте, на котором мы ее застали в 2013. Остальные же платформы, как видно, постепенно теряли в продажах, к 2016 году образовав кластер у самой оси абсцисс с продажами от 0.18 до 5.25. "
   ]
  },
  {
   "cell_type": "markdown",
   "id": "2165b66a",
   "metadata": {},
   "source": [
    "Теперь **построим диаграмму размаха по суммарным продажам для потенциально прибыльных платформ**."
   ]
  },
  {
   "cell_type": "markdown",
   "id": "173bc588",
   "metadata": {},
   "source": [
    "Создадим список перспективных, актуальных платформ:"
   ]
  },
  {
   "cell_type": "code",
   "execution_count": null,
   "id": "138c6b82",
   "metadata": {},
   "outputs": [],
   "source": [
    "actual_platfroms = ['PS4', 'XOne', '3DS']"
   ]
  },
  {
   "cell_type": "markdown",
   "id": "ce07a9ae",
   "metadata": {},
   "source": [
    "По этому списку создадим новый датафрейм - срез оригинального, в который попадут лишь игры для перспективных платформ, выпущенные с 2013 до 2016 года:"
   ]
  },
  {
   "cell_type": "code",
   "execution_count": null,
   "id": "4670025d",
   "metadata": {},
   "outputs": [],
   "source": [
    "games_actual = games.query('platform in @actual_platfroms and year_of_release >= 2013 and year_of_release <= 2016')\n",
    "games_actual = games_actual.reset_index()#Обновим индекс получившегся набора данных"
   ]
  },
  {
   "cell_type": "markdown",
   "id": "a759b4c3",
   "metadata": {},
   "source": [
    "Создадим таблицу, где в качестве столбцов будут использоваться платформы, а в качестве значений - суммарная выручка конкретной игры (индекс оставим как в датафрейме games):"
   ]
  },
  {
   "cell_type": "code",
   "execution_count": null,
   "id": "d8928c1c",
   "metadata": {},
   "outputs": [],
   "source": [
    "sales_by_actual_platforms = games_actual.pivot_table(index='index', columns='platform', values='total_sales')"
   ]
  },
  {
   "cell_type": "markdown",
   "id": "dad27059",
   "metadata": {},
   "source": [
    "Затем построим \"ящики с усами\", для удобства анализа отобразив на них сами данные в виде точек, и ограничив их по оси ординат:"
   ]
  },
  {
   "cell_type": "code",
   "execution_count": null,
   "id": "e7a5761a",
   "metadata": {
    "scrolled": false
   },
   "outputs": [],
   "source": [
    "fig = px.box(sales_by_actual_platforms, y=['PS4', 'XOne', '3DS'], \n",
    "              points=\"all\", title='Диаграммы размаха продаж игр для перспективных платформ')\n",
    "fig.update_yaxes(range=[0,1.8])\n",
    "fig.show()"
   ]
  },
  {
   "cell_type": "markdown",
   "id": "16258551",
   "metadata": {},
   "source": [
    "На диаграмме видим, что медианные продажи выше всего у игр для XOne, почти не отличаются от них медианные продажи для PS4, хуже продаются игры для 3DS. Самый широкий интерквартильный размах у графика продаж игр на PS4, самый узкий - снова у 3DS. Заметим и скошенность данных вправо для всех платформ. В каждом графике видим большое количество выбросов (чтобы их увидеть, можно ослабить ограничение по оси y в 3 строке кода) - необычно высоких продаж той или иной игры.<br>\n",
    "Скажем, что из имеющихся данных (помним, что они неполны), можно сделать вывод о (в среднем) несколько больших продажах игр, выпущенных на платформе XOne. "
   ]
  },
  {
   "cell_type": "markdown",
   "id": "c2efda16",
   "metadata": {},
   "source": [
    "**Посмотрим, как влияют на продажи игр для платформы PS4 отзывы пользователей и критиков.** Построим диаграмму рассеяния и посчитаем корреляцию между отзывами и продажами. Для аппроксимации точечных значений нашего графика воспользуемся обычным методом наименьших квадратов ([ordinary least squares](https://en.wikipedia.org/wiki/Ordinary_least_squares))."
   ]
  },
  {
   "cell_type": "markdown",
   "id": "47591009",
   "metadata": {},
   "source": [
    "Для построения диаграммы сперва создадим срез датафрейма games_actual, где ограничим представленные платформы той, по которой будем строить график, - PS4:"
   ]
  },
  {
   "cell_type": "code",
   "execution_count": null,
   "id": "ce245dbf",
   "metadata": {},
   "outputs": [],
   "source": [
    "score_impact_PS4 = games_actual.query('platform == \"PS4\"')"
   ]
  },
  {
   "cell_type": "markdown",
   "id": "6495b974",
   "metadata": {},
   "source": [
    "Теперь по этому срезу построим график, показывающий связь между оценкой критиков и суммарной выручкой:"
   ]
  },
  {
   "cell_type": "code",
   "execution_count": null,
   "id": "554adde4",
   "metadata": {},
   "outputs": [],
   "source": [
    "fig = px.scatter(score_impact_PS4, x=\"critic_score\", y=\"total_sales\", \n",
    "                 trendline=\"ols\", title='Влияние оценок критиков на продажи игр для PS4')\n",
    "fig.show()"
   ]
  },
  {
   "cell_type": "markdown",
   "id": "a311c426",
   "metadata": {},
   "source": [
    "Кроме того, выведем коэффициент корреляции Пирсона между этими величинами:"
   ]
  },
  {
   "cell_type": "code",
   "execution_count": null,
   "id": "63cfe97d",
   "metadata": {},
   "outputs": [],
   "source": [
    "score_impact_PS4['total_sales'].corr(score_impact_PS4['critic_score'])"
   ]
  },
  {
   "cell_type": "markdown",
   "id": "e2137328",
   "metadata": {},
   "source": [
    "Наблюдается небольшая положительная корреляция. Проверим то же для пользовательской оценки. Построим график по тому же срезу:"
   ]
  },
  {
   "cell_type": "code",
   "execution_count": null,
   "id": "cf993618",
   "metadata": {},
   "outputs": [],
   "source": [
    "fig = px.scatter(score_impact_PS4, x=\"user_score\", y=\"total_sales\", \n",
    "                 trendline=\"ols\", title='Влияние оценок пользователей на продажи игр для PS4')\n",
    "fig.show()"
   ]
  },
  {
   "cell_type": "markdown",
   "id": "da00b392",
   "metadata": {},
   "source": [
    "Выведем соответствующий коэффициент корреляции:"
   ]
  },
  {
   "cell_type": "code",
   "execution_count": null,
   "id": "01740fae",
   "metadata": {},
   "outputs": [],
   "source": [
    "score_impact_PS4['total_sales'].corr(score_impact_PS4['user_score'])"
   ]
  },
  {
   "cell_type": "markdown",
   "id": "2dc3c5d2",
   "metadata": {},
   "source": [
    "С уверенностью заключим, что влияние оценок критиков на продажи игр под PS4 сильнее, чем влияние пользовательских оценок - корреляция с последними почти нулевая."
   ]
  },
  {
   "cell_type": "markdown",
   "id": "5d822d75",
   "metadata": {},
   "source": [
    "**Соотнесем выводы с продажами игр на других платформах.**"
   ]
  },
  {
   "cell_type": "markdown",
   "id": "cfe5f08a",
   "metadata": {},
   "source": [
    "Создадим другой срез, в него попадут все платформы, кроме PS4, которую мы уже рассмотрели:"
   ]
  },
  {
   "cell_type": "code",
   "execution_count": null,
   "id": "177e5132",
   "metadata": {
    "scrolled": true
   },
   "outputs": [],
   "source": [
    "score_impact_other = games_actual.query('platform != \"PS4\"')"
   ]
  },
  {
   "cell_type": "markdown",
   "id": "45fda9bc",
   "metadata": {},
   "source": [
    "Для выявления связи оценки критиков и суммарной выручки строим фасеточную диаграмму рассеяния - в аргумент facet_col передадим сразу все три значения столбца 'platform' нашего среза:"
   ]
  },
  {
   "cell_type": "code",
   "execution_count": null,
   "id": "4c929a77",
   "metadata": {},
   "outputs": [],
   "source": [
    "fig = px.scatter(score_impact_other, x=\"critic_score\", y=\"total_sales\", facet_col=\"platform\", \n",
    "                 trendline=\"ols\", title='Влияние оценок критиков на продажи игр')\n",
    "fig.show()"
   ]
  },
  {
   "cell_type": "markdown",
   "id": "1f40d041",
   "metadata": {},
   "source": [
    "С помощью цикла узнаем соответствующие коэффициенты корреляции:"
   ]
  },
  {
   "cell_type": "code",
   "execution_count": null,
   "id": "7b73bb09",
   "metadata": {},
   "outputs": [],
   "source": [
    "other_platforms=['3DS', 'XOne']\n",
    "for platform in other_platforms:\n",
    "    games_temp = games_actual.query('platform == @platform')\n",
    "    print(f'Корреляция для платформы {platform} -', games_temp['total_sales'].corr(games_temp['critic_score']))"
   ]
  },
  {
   "cell_type": "markdown",
   "id": "f2146f13",
   "metadata": {},
   "source": [
    "Заметим, что коэффициенты для этих платформ сравнимы с коэффициентом для PS4, у 3DS он ниже, у XOne - несколько выше."
   ]
  },
  {
   "cell_type": "markdown",
   "id": "d7dd356a",
   "metadata": {},
   "source": [
    "Теперь построим такой же график уже для визуализации связи общей выручки и оценки пользователей:"
   ]
  },
  {
   "cell_type": "code",
   "execution_count": null,
   "id": "47e6ae67",
   "metadata": {},
   "outputs": [],
   "source": [
    "fig = px.scatter(score_impact_other, x=\"user_score\", y=\"total_sales\", facet_col=\"platform\", \n",
    "                 trendline=\"ols\", title='Влияние оценок пользователей на продажи игр')\n",
    "fig.show()"
   ]
  },
  {
   "cell_type": "markdown",
   "id": "62240bc3",
   "metadata": {},
   "source": [
    "Используя тот же цикл, выведем значения коэффициента корреляции Пирсона:"
   ]
  },
  {
   "cell_type": "code",
   "execution_count": null,
   "id": "beb7213a",
   "metadata": {},
   "outputs": [],
   "source": [
    "for platform in other_platforms:\n",
    "    games_temp = games_actual.query('platform == @platform')\n",
    "    print(f'Корреляция для платформы {platform} -', games_temp['total_sales'].corr(games_temp['user_score']))"
   ]
  },
  {
   "cell_type": "markdown",
   "id": "f9ea9205",
   "metadata": {},
   "source": [
    "Для Xone, так же как в случае с PS4, зависимость продаж от пользовательских оценок находится в нуле. Для платформы 3DS же наблюдаем небольшую положительную корреляцию."
   ]
  },
  {
   "cell_type": "markdown",
   "id": "27e069e5",
   "metadata": {},
   "source": [
    "В результате анализа скажем, что зависимость продаж от оценок пользователей прослеживается (положительная, хоть и весьма слабая) только для платформы 3DS, тогда как зависимость от оценок критиков прослеживается для всех платформ в немного разной степени - происходит падение коэффициента корреляции Пирсона в порядке XOne, PS4, 3DS."
   ]
  },
  {
   "cell_type": "markdown",
   "id": "88e50168",
   "metadata": {},
   "source": [
    "**Рассмотрим общее распределение прибыли по жанрам игр.**"
   ]
  },
  {
   "cell_type": "markdown",
   "id": "780576ec",
   "metadata": {},
   "source": [
    "Сначала узнаем, как обстоит дело с общей (суммарной) выручкой по каждому из жанров игр. "
   ]
  },
  {
   "cell_type": "markdown",
   "id": "06a43f5c",
   "metadata": {},
   "source": [
    "Построим график по специально созданной таблице с жанрами в качестве индексов и отсортированной в порядке убывания суммарной выручкой в качестве значений:"
   ]
  },
  {
   "cell_type": "code",
   "execution_count": null,
   "id": "aa0bef3f",
   "metadata": {},
   "outputs": [],
   "source": [
    "sales_by_genre = (games_actual\n",
    "                  .pivot_table(index='genre', values='total_sales', aggfunc='sum')\n",
    "                  .sort_values(by='total_sales', ascending=False))"
   ]
  },
  {
   "cell_type": "code",
   "execution_count": null,
   "id": "c4876206",
   "metadata": {},
   "outputs": [],
   "source": [
    "fig = px.bar(sales_by_genre, x=sales_by_genre.index, \n",
    "             y='total_sales',\n",
    "             title='Выручка, полученная играми каждого жанра')\n",
    "fig.show()"
   ]
  },
  {
   "cell_type": "markdown",
   "id": "602d4a4a",
   "metadata": {},
   "source": [
    "Итог этого шага таков: самые продающиеся жанры - action, shooter и role-playing, а жанры с наименьшими продажами - simulation, strategy и puzzle (написаны в порядке убывания суммарной выручки). "
   ]
  },
  {
   "cell_type": "markdown",
   "id": "b6dbe294",
   "metadata": {},
   "source": [
    "Теперь же вравним медианные продажи по жанрам с помощью диаграммы размаха, чтобы получить более точный результат."
   ]
  },
  {
   "cell_type": "markdown",
   "id": "965ea329",
   "metadata": {},
   "source": [
    "Создадим альтернативную таблицу, где жанры будут расположены в названиях столбцов и построим по всем столбцам диаграмму размаха:"
   ]
  },
  {
   "cell_type": "code",
   "execution_count": null,
   "id": "8a1d4c4a",
   "metadata": {},
   "outputs": [],
   "source": [
    "sales_by_genre_alternative = games_actual.pivot_table(index='index', columns='genre', values='total_sales')"
   ]
  },
  {
   "cell_type": "code",
   "execution_count": null,
   "id": "4bab7c47",
   "metadata": {},
   "outputs": [],
   "source": [
    "fig = px.box(sales_by_genre_alternative, y=['Action', 'Adventure', 'Fighting', 'Misc', 'Platform', 'Puzzle',\n",
    "             'Racing', 'Role-Playing', 'Shooter', 'Simulation', 'Sports','Strategy'], \n",
    "              points=\"all\", title='Диаграммы размаха для продаж игр по жанрам')\n",
    "fig.update_yaxes(range=[0,5.7])\n",
    "fig.show()"
   ]
  },
  {
   "cell_type": "markdown",
   "id": "286b3f91",
   "metadata": {},
   "source": [
    "Для того, чтобы лучше рассмотреть совсем маленькие ящики, можно воспользоваться инструментом графика 'Zoom'."
   ]
  },
  {
   "cell_type": "markdown",
   "id": "a4664283",
   "metadata": {},
   "source": [
    "После чего выведем специально созданную таблицу, в которой каждому жанру в индексе соответствует медиана продаж:"
   ]
  },
  {
   "cell_type": "code",
   "execution_count": null,
   "id": "b2018088",
   "metadata": {},
   "outputs": [],
   "source": [
    "sales_by_genre_alternative_median = games_actual.pivot_table(index='genre', values='total_sales', aggfunc='median')\n",
    "sales_by_genre_alternative_median.sort_values(by='total_sales', ascending=False)"
   ]
  },
  {
   "cell_type": "markdown",
   "id": "b2ad20c1",
   "metadata": {},
   "source": [
    "Как видим, распределение после уточнения изменилось: в первой тройке по продажам теперь находятся жанры shooter, sports и platform, а в последней - puzzle, strategy и adventure. Как видим, первая тройка отличается от предыдущего результата весьма ощутимо, последняя тройка же изменила свой порядок, кроме того, вместо жанра simulation в ней оказался жанр adventure. Так мы избежали ошибочного результата, проведя более аккуратное сравнение по медианам. "
   ]
  },
  {
   "cell_type": "markdown",
   "id": "035a2197",
   "metadata": {},
   "source": [
    "## 3. Создание портрета потребителя для каждого региона"
   ]
  },
  {
   "cell_type": "markdown",
   "id": "d453f662",
   "metadata": {},
   "source": [
    "Для начала создадим функции, первая по названию параметра возвращает таблицу с рейтингом этого параметра в каждом из регионов, вторая - рисует 3 столбчатых графика."
   ]
  },
  {
   "cell_type": "markdown",
   "id": "a8a51ca6",
   "metadata": {},
   "source": [
    "Первой напишем функцию top_5, которая составит таблицу на 3 пары столбцов вида \"параметр\" - \"его доля в купленных играх\". Заметьте особые условия для параметра 'rating' - для него не добавляется строка 'other', поэтому в финальном датафрейме изначально 5 строк, а не 6. Перед написанием функции сделаем срез оригинального датафрейма, в котором будем учитывать лишь игры, выпущенные в актуальный период."
   ]
  },
  {
   "cell_type": "code",
   "execution_count": null,
   "id": "b59c9349",
   "metadata": {},
   "outputs": [],
   "source": [
    "games_actual_period = games.query('year_of_release >= 2013 and year_of_release <= 2016')"
   ]
  },
  {
   "cell_type": "code",
   "execution_count": null,
   "id": "d859fd9c",
   "metadata": {},
   "outputs": [],
   "source": [
    "def top_5(param):\n",
    "    if param == 'rating':\n",
    "        \n",
    "        top_param = pd.DataFrame({'to_be_deleted': [np.nan] * 5})#Финальный датафрейм, куда будем добавлять столбцы\n",
    "\n",
    "    else:\n",
    "        \n",
    "        top_param = pd.DataFrame({'to_be_deleted': [np.nan] * 6})#Финальный датафрейм, куда будем добавлять столбцы\n",
    "        \n",
    "    regional_param = games_actual_period.groupby(param)[['na_sales', 'eu_sales', 'jp_sales']].sum()\n",
    "                                                                  #Группируем данные по параметру и\n",
    "                                                                  #суммируем прибыль в каждом регионе\n",
    "\n",
    "    for regional_sales in ['na_sales', 'eu_sales', 'jp_sales']:#Запускаем цикл по каждому региону\n",
    "        \n",
    "        regional_param[regional_sales] /= regional_param[regional_sales].sum()#Находим долю игр, купленных \n",
    "                                                                                      #в связи с этим параметром\n",
    "\n",
    "        top_param_current = pd.Series(regional_param[regional_sales]#Создающим текущий топ-5 параметров для региона\n",
    "                                          .sort_values(ascending=False)\n",
    "                                          .head())\n",
    "\n",
    "        if param != 'rating':\n",
    "            top_param_current['other'] = (regional_param[regional_sales]#Добавляем строку с суммарной долей\n",
    "                                              .sort_values(ascending=False)#остальных платформ\n",
    "                                              .iloc[5:]\n",
    "                                              .sum())\n",
    "\n",
    "        top_param_current = top_param_current.reset_index()#Обновляем индекс\n",
    "        \n",
    "        top_param = top_param.merge(top_param_current, left_index=True, right_index=True)#Добавляем получившиеся\n",
    "                                                                                            #столбцы в итоговый датафрейм\n",
    "\n",
    "    top_param = top_param.dropna(axis=1, how='all')#Удаляем из датафрейма пустой столбец, использованный для \n",
    "                                                           #более удобного соединения таблиц\n",
    "    top_param.columns = (['na_top', 'na_sales_proportion',#Переименовываем столбцы в соответствии \n",
    "                          'eu_top', 'eu_sales_proportion',#с нужными регионами\n",
    "                          'jp_top', 'jp_sales_proportion'])\n",
    "    return top_param"
   ]
  },
  {
   "cell_type": "markdown",
   "id": "50850c07",
   "metadata": {},
   "source": [
    "Теперь напишем простую функцию bar_plot, которая будет рисовать 3 столбчатые диаграммы, где на оси абсцисс будет располагаться название параметра, а на оси ординат - его доля в суммарных покупках.<br>\n",
    "Автор использует для визуализации библиотеку plotly express, которая рисует 3 отдельных графика, а не другие библиотеки, которые могут рисовать графики на тех же осях, потому что даже при этом plotly обладает большим преимуществом - интерактивностью и панелью инструментов, с помощью которых можно проследить нужное значение на графике, приблизить или отдалить какой-либо регион графика и т.д. (Кроме того стоит отметить и важность такой характеристики как \"привычка\" в этом вопросе)."
   ]
  },
  {
   "cell_type": "code",
   "execution_count": null,
   "id": "3a1bbd0b",
   "metadata": {},
   "outputs": [],
   "source": [
    "def bar_plot (parameter):\n",
    "    for region in ['na', 'eu', 'jp']:\n",
    "        fig = px.bar(top_5(parameter), x=region+'_top', y=region+'_sales_proportion',\n",
    "                 title='Доли парметра '+parameter+' в регионе '+region)\n",
    "        fig.show()"
   ]
  },
  {
   "cell_type": "markdown",
   "id": "584d6e43",
   "metadata": {},
   "source": [
    "Начнем применять наши функции. Сперва **определим самые популярные платформы** для каждого из представленных в данных региона:"
   ]
  },
  {
   "cell_type": "code",
   "execution_count": null,
   "id": "4fd26ffb",
   "metadata": {
    "scrolled": true
   },
   "outputs": [],
   "source": [
    "top_5('platform')"
   ]
  },
  {
   "cell_type": "code",
   "execution_count": null,
   "id": "1a4f3d66",
   "metadata": {
    "scrolled": false
   },
   "outputs": [],
   "source": [
    "bar_plot('platform')"
   ]
  },
  {
   "cell_type": "markdown",
   "id": "f8e4946e",
   "metadata": {},
   "source": [
    "Заметим различное распределение долей продаж среди 5 самых популярных платформ в каждом регионе, что особенно видно по первой строчке рейтингов. Так, в то время как в na доля продаж лидера среди остальных платформ - четверть, а в eu - почти 40 %, в jp на первую платформу в рейтинге приходится почти половина всех продаж.<br>\n",
    "В каждый из трех рейтингов попала платформа PS4, PS3 и 3DS. Регион jp единственный содержит в своем рейтинге платформы WiiU и PSV, расположившиется на 5 и 3 местах рейтинга соответственно. Регионы na и eu отличаются друг от друга лишь порядком следования платформ в рейтинге, не считая первой и последней позиции - PS4 и 3DS. <br>\n",
    "Самые популярные платформы в топ-5 по регионам следующие: na, eu - PS4, jp - 3DS. Самые непопулярные: na, eu - 3DS, jp - WiiU."
   ]
  },
  {
   "cell_type": "markdown",
   "id": "54046949",
   "metadata": {},
   "source": [
    "Теперь **исследуем самые популярные жанры** для каждого региона."
   ]
  },
  {
   "cell_type": "code",
   "execution_count": null,
   "id": "2f80b755",
   "metadata": {},
   "outputs": [],
   "source": [
    "top_5('genre')"
   ]
  },
  {
   "cell_type": "code",
   "execution_count": null,
   "id": "6ec92796",
   "metadata": {},
   "outputs": [],
   "source": [
    "bar_plot('genre')"
   ]
  },
  {
   "cell_type": "markdown",
   "id": "29eb81af",
   "metadata": {},
   "source": [
    "В этом случае видим менее различное распределение долей во всех трех рейтингах. На этот раз отличия между всеми тремя наборами еще меньше: топы na и eu совпадают даже позиционно, отличаясь лишь пятой позицией рейтинга - это Misc и Racing соответственно. Расположение значений в регионе jp является перестановкой расположения в na с заменой Sports на Fighting. Уникальные значения демонстрируют eu и jp - это Racing и Fighting соответственно. Общими для всех трех топов являются жанры Action, Shooter и Role-Playing.<br>\n",
    "Опишем первые позиции рейтингов: na, eu - Action, jp - Role_Playing. Последние - na - Misc, eu - Racing, jp - Shooter. "
   ]
  },
  {
   "cell_type": "markdown",
   "id": "f9c900aa",
   "metadata": {},
   "source": [
    "Наконец, **определим наличие влияния рейтинга на продажи** в этих регионах."
   ]
  },
  {
   "cell_type": "code",
   "execution_count": null,
   "id": "98b9fcd9",
   "metadata": {
    "scrolled": false
   },
   "outputs": [],
   "source": [
    "top_5('rating')"
   ]
  },
  {
   "cell_type": "code",
   "execution_count": null,
   "id": "ea09543e",
   "metadata": {},
   "outputs": [],
   "source": [
    "bar_plot('rating')"
   ]
  },
  {
   "cell_type": "markdown",
   "id": "eafb9668",
   "metadata": {},
   "source": [
    "Видим, что рейтинги для na и eu совпадают даже позиционно, если не обращать внимание на пропущенные значения.  Топ для jp является перестановкой предыдущих двух рейтингов, почти обратной, правда в ней поменяны местами значения E и E10+.<br>\n",
    "Явным образом прослеживается влияние рейтинга на попадание в топ продаж по региону, причем на это не зависит от региона, так как каждый из трех рейтингов состоит из одних и тех же значений.<br>\n",
    "Отметим очень похожее распределение долей продаж игр каждого конкретного рейтинга для регионов na и eu.<br> \n",
    "Кроме того, бросается в глаза то, что в jp большая часть игр не имеет рейтинга ESRB, предположим, что это связано с тем, что система такой оценки игр была разработана в США и характерна больше для англоязычного мира, в то время как в Японии для оценки игр зачастую используется собственная система рейтинга - CERO.<br> \n",
    "Интерсной задачей было бы прогнозирования рейтинга в ячейках с 'unknown' с помощью более твердого исследования влияния всех остальных параметров на этот рейтинг, задача эта, впрочем, относится скорее к области машинного обучения и интеллектуального анализа."
   ]
  },
  {
   "cell_type": "markdown",
   "id": "44e45220",
   "metadata": {},
   "source": [
    "Видим, что в двух случаях из трех (топы по платформе и рейтингу) распределение топовых позиций по долям продаж было различным, при том, что для каждого топа были характерны схожие, если не одинаковые, значения. Обращает на себя большая схожесть каждого топа в регионах na и eu, и их общее отличие от региона jp, что может объясняться более тесными культурными связями между США и Европейским Союзом, и культурной же отдаленностью от них Японии.<br> \n",
    "Скорее всего, чтобы более детально обрисовать отличительные особенности каждого регионального рынка потребуется задействовать более точные аналитические инструменты, проводить анализ по большему набору характеристик. "
   ]
  },
  {
   "cell_type": "markdown",
   "id": "181c65d6",
   "metadata": {},
   "source": [
    "## 4. Проверка гипотез"
   ]
  },
  {
   "cell_type": "markdown",
   "id": "52197f9e",
   "metadata": {},
   "source": [
    "Проверим две гипотезы, касающиеся равенства средних двух наборов данных."
   ]
  },
  {
   "cell_type": "markdown",
   "id": "64d8164a",
   "metadata": {},
   "source": [
    "Для начала проверим следующую гипотезу - **средние пользовательские рейтинги платформ Xbox One и PC одинаковые** сформулируем ее более строго, выбрав уровень значимости 0.05:"
   ]
  },
  {
   "cell_type": "markdown",
   "id": "18f686bc",
   "metadata": {},
   "source": [
    "```\n",
    "H_0: Пользовательские рейтинги (user_score) платформы 'XOne' = пользовательские рейтинги (user_score) платформы 'PC'`\n",
    "H_a: Пользовательские рейтинги (user_score) платформы 'XOne' ≠ пользовательские рейтинги (user_score) платформы 'PC'`\n",
    "alpha = 0.05\n",
    "```"
   ]
  },
  {
   "cell_type": "markdown",
   "id": "9f3795c6",
   "metadata": {},
   "source": [
    "Так как мы проверяем гипотезу о равенстве среднего двух независимых совокупностей данных, применим метод scipy.stats.ttest_ind():"
   ]
  },
  {
   "cell_type": "code",
   "execution_count": null,
   "id": "83acf2e8",
   "metadata": {},
   "outputs": [],
   "source": [
    "results = st.ttest_ind(\n",
    "    games_actual_period.loc[games_actual_period.platform == 'XOne', 'user_score'], \n",
    "    games_actual_period.loc[games_actual_period.platform == 'PC', 'user_score'],\n",
    "    nan_policy='omit'\n",
    ")\n",
    "alpha = .05\n",
    "print(results.pvalue)\n",
    "if results.pvalue < alpha:\n",
    "    print(\"Отвергаем нулевую гипотезу\")\n",
    "else:\n",
    "    print(\"Не получилось отвергнуть нулевую гипотезу\") "
   ]
  },
  {
   "cell_type": "markdown",
   "id": "8a2f7b20",
   "metadata": {},
   "source": [
    "Проведенный тест привел к отвержению, среднее рейтингов не одинаково."
   ]
  },
  {
   "cell_type": "markdown",
   "id": "5cb76eda",
   "metadata": {},
   "source": [
    "Теперь проверим гипотезу, говорящую о том, что **средние пользовательские рейтинги жанров Action и Sports разные**. Опять сформулируем нулевую и альтернативную гипотезы с тем же уровнем значимости:"
   ]
  },
  {
   "cell_type": "markdown",
   "id": "e97fcfe6",
   "metadata": {},
   "source": [
    "```\n",
    "H_0: Пользовательские рейтинги (user_score) жанра 'Action' = пользовательские рейтинги (user_score) жанра 'Sports'`\n",
    "H_a: Пользовательские рейтинги (user_score) жанра 'Action' ≠ пользовательские рейтинги (user_score) жанра 'Sports'`\n",
    "alpha = 0.05\n",
    "```"
   ]
  },
  {
   "cell_type": "markdown",
   "id": "2fb82f68",
   "metadata": {},
   "source": [
    "Здесть мы так же проверяем гипотезу о равенстве среднего двух независимых совокупностей, поэтому снова применим метод scipy.stats.ttest_ind():"
   ]
  },
  {
   "cell_type": "code",
   "execution_count": null,
   "id": "9480e5b2",
   "metadata": {},
   "outputs": [],
   "source": [
    "results = st.ttest_ind(\n",
    "    games_actual_period.loc[games_actual_period.genre == 'Action', 'user_score'], \n",
    "    games_actual_period.loc[games_actual_period.genre == 'Sports', 'user_score'],\n",
    "    nan_policy='omit'\n",
    ")\n",
    "alpha = .05\n",
    "print(results.pvalue)\n",
    "if results.pvalue < alpha:\n",
    "    print(\"Отвергаем нулевую гипотезу\")\n",
    "else:\n",
    "    print(\"Не получилось отвергнуть нулевую гипотезу\") "
   ]
  },
  {
   "cell_type": "markdown",
   "id": "f2607c22",
   "metadata": {},
   "source": [
    "Этот тест отвергает гипотезу о равенстве средних пользовательских рейтингах, они, судя по всему, различны."
   ]
  },
  {
   "cell_type": "markdown",
   "id": "1a59638d",
   "metadata": {},
   "source": [
    "## 5. Общий вывод"
   ]
  },
  {
   "cell_type": "markdown",
   "id": "10fed4eb",
   "metadata": {},
   "source": [
    "В ходе исследования придерживались следующей траектории работы:\n",
    "1. Обзор и подготовка данных\n",
    "На этом шаге мы исправляли некоторые недостатки в имеющихся данных. *Приведение столбцов к нижнему регистру* позволило повысить удобство чтения и работы с названиями колонок датафрейма. После этого было произведено *преобразование типов*, в ходе готорого разобрались с логикой устройства датафрейма, оптимизировали использование памяти. На следующем этапе работы занялись *обработкой пропусков*, чтобы максимизировать пользу от анализа данных в нашем наборе, применяя средства визуализации пропусков, срезов данных, анализируя возможные причины отсутствия значений, пришли к решению о том, как действовать с пропусками в каждой отдельной ситуации. Завершая этот шаг работы, *создали новый столбец* в данных, который был необходим на дальнейших аналитических шагах.\n",
    "2. Исследовательский анализ данных\n",
    "В течение этого этапа работы были проведены следующие аналитические действия:\n",
    "    1. С помощью столбчатой диаграммы было оценено количество игр, выходивших в разные годы, сделали вывод, что **для дальнейшего анализа, скорее всего, понадобится лишь часть имеющихся данных**.\n",
    "    2. Были найдены платформы с наибольшим годовым объемом продаж, снова используя столбчатую диаграмму, проанализировали динамику возникновения на рынке игр для этих платформ, сколько длится период их продаж, какова их \"живучесть\" на рынке видеоигр. Определили, что **медианная продолжительность нахождения игр для конкретной платформы на рынке составляет 9-10 лет**.\n",
    "    3. По результата выбрали **актуальный период для исследования - 2013-2016 годы**, который мог бы быть полезен при прогнозировании дальнейших продаж игр по разным параметрам.\n",
    "    4. С помощью линейного графика проанализировали динамику роста/падения годовых продаж в выбранный период. Выяснилось, что **в наблюдаемый временной интервал происходило стабильное падение продаж игр для всех платформ (но необходимо помнить о некоторых временных исключениях**. По итогу этого этапа выбрали **наиболее перспективные в плане объема продаж платформы - PS4, XOne и 3DS**. \n",
    "    5. Построив диаграммы размаха для выбранных платформ, оценили их медианные продажи. **Выше всего средние продажи оказались у платформы XOne**, отметили **скошенность вправо у данных по всем выбранным платформам**. \n",
    "    6. Провели исследование влияния оценок игроков и критиков на продажи игр на платформе X360, с помощью построения диаграмм рассеяния и вычисления коэффициента корреляции Пирсона, выяснилось, что **связь с количеством продаж обнаруживается только у оценок критиков**.\n",
    "    7. Выводы о влиянии отзывов на продажу игр для этой платформы были соотнесены с тем же влиянием на остальные платформы из списка потенциально прибыльных. Определили, что **на продажи влияют оценки критиков, причем коэффициент корреляции для них находится в пределах 0.45, оценки пользователей же имеют на продажи нулевое значение, лишь в случае с платформой 3DS коэффициент корреляции отличился от нуля (на 2 десятых)**. \n",
    "    8. Совершив аккуратное сравнение медианных продаж (воспользовались сводными таблицами и диаграммами размахи), провели анализ прибыльности представленных игровых жанров. В реультате, пришли к тому, что **в первой тройке по продажам находятся жанры shooter, sports и platform, а в последней -  puzzle, strategy и adventure**.\n",
    "3. Формирование портрета потребителя для имеющихся в данных регионов\n",
    "С помощью написания универсальных функций проанализировали самые популярные платформы и жанры в каждом регионе, оценив доли продаж, им соответствующие. Кроме того, оценили влияние присвоенного игре рейтинга на ее продаваемость. Заметили, что **во всех случаях распределение целевых параметров по долям продаж было весьма разным**, с другой стороны, сам **состав лидеров по продажам во всех случаях был во многом идентичным**. Кроме того, заметили , что **результаты анализа были очень похожи для na и eu, было выдвинуто предположениие о причине отличия от них результатов для jp**, еще, **для региона jp предположили причину, по которой большей части игр не был присвоен рейтинг ESRB**.\n",
    "4. Проверка гипотез\n",
    "На последнем шаге проверили гипотезы о равенстве или неравенстве средних пользовательских оценок для конкретных платформ и жанров. Выяснили, что **средние пользовательские рейтинги платформ Xbox One и PC не получается назвать одинаковыми, как и средние пользовательские оценки жанров Action и Sports**, для этого использовали средства библиотеки scipy.\n",
    "\n",
    "Таким образом, можем заключить, что **в 2017 году можно ожидать дальнейшего падения продаж игр для всех платформ, среди которых судя по всему лучше всего будут продаваться игры на XOne и PS4, обладающие хорошими оценками от критиков. Стоит также рассчитывать на хорошие международные продажи игр в жанрах shooter, sports и platform. Кроме того, не стоит забывать о региональной специфике продаж, особенно в случая с японским рынком видеоигр.** "
   ]
  }
 ],
 "metadata": {
  "ExecuteTimeLog": [
   {
    "duration": 624,
    "start_time": "2022-10-26T13:57:55.420Z"
   },
   {
    "duration": 0,
    "start_time": "2022-10-26T13:57:56.079Z"
   },
   {
    "duration": 0,
    "start_time": "2022-10-26T13:57:56.081Z"
   },
   {
    "duration": 0,
    "start_time": "2022-10-26T13:57:56.081Z"
   },
   {
    "duration": 0,
    "start_time": "2022-10-26T13:57:56.083Z"
   },
   {
    "duration": 0,
    "start_time": "2022-10-26T13:57:56.084Z"
   },
   {
    "duration": 0,
    "start_time": "2022-10-26T13:57:56.085Z"
   },
   {
    "duration": 0,
    "start_time": "2022-10-26T13:57:56.086Z"
   },
   {
    "duration": 0,
    "start_time": "2022-10-26T13:57:56.087Z"
   },
   {
    "duration": 0,
    "start_time": "2022-10-26T13:57:56.089Z"
   },
   {
    "duration": 0,
    "start_time": "2022-10-26T13:57:56.090Z"
   },
   {
    "duration": 0,
    "start_time": "2022-10-26T13:57:56.091Z"
   },
   {
    "duration": 0,
    "start_time": "2022-10-26T13:57:56.092Z"
   },
   {
    "duration": 0,
    "start_time": "2022-10-26T13:57:56.093Z"
   },
   {
    "duration": 0,
    "start_time": "2022-10-26T13:57:56.094Z"
   },
   {
    "duration": 0,
    "start_time": "2022-10-26T13:57:56.095Z"
   },
   {
    "duration": 0,
    "start_time": "2022-10-26T13:57:56.122Z"
   },
   {
    "duration": 0,
    "start_time": "2022-10-26T13:57:56.123Z"
   },
   {
    "duration": 0,
    "start_time": "2022-10-26T13:57:56.124Z"
   },
   {
    "duration": 0,
    "start_time": "2022-10-26T13:57:56.125Z"
   },
   {
    "duration": 0,
    "start_time": "2022-10-26T13:57:56.125Z"
   },
   {
    "duration": 0,
    "start_time": "2022-10-26T13:57:56.126Z"
   },
   {
    "duration": 0,
    "start_time": "2022-10-26T13:57:56.126Z"
   },
   {
    "duration": 0,
    "start_time": "2022-10-26T13:57:56.127Z"
   },
   {
    "duration": 0,
    "start_time": "2022-10-26T13:57:56.128Z"
   },
   {
    "duration": 0,
    "start_time": "2022-10-26T13:57:56.129Z"
   },
   {
    "duration": 0,
    "start_time": "2022-10-26T13:57:56.130Z"
   },
   {
    "duration": 0,
    "start_time": "2022-10-26T13:57:56.132Z"
   },
   {
    "duration": 0,
    "start_time": "2022-10-26T13:57:56.133Z"
   },
   {
    "duration": 0,
    "start_time": "2022-10-26T13:57:56.134Z"
   },
   {
    "duration": 0,
    "start_time": "2022-10-26T13:57:56.138Z"
   },
   {
    "duration": 0,
    "start_time": "2022-10-26T13:57:56.139Z"
   },
   {
    "duration": 0,
    "start_time": "2022-10-26T13:57:56.139Z"
   },
   {
    "duration": 0,
    "start_time": "2022-10-26T13:57:56.140Z"
   },
   {
    "duration": 0,
    "start_time": "2022-10-26T13:57:56.142Z"
   },
   {
    "duration": 0,
    "start_time": "2022-10-26T13:57:56.143Z"
   },
   {
    "duration": 0,
    "start_time": "2022-10-26T13:57:56.144Z"
   },
   {
    "duration": 0,
    "start_time": "2022-10-26T13:57:56.145Z"
   },
   {
    "duration": 0,
    "start_time": "2022-10-26T13:57:56.146Z"
   },
   {
    "duration": 0,
    "start_time": "2022-10-26T13:57:56.147Z"
   },
   {
    "duration": 0,
    "start_time": "2022-10-26T13:57:56.148Z"
   },
   {
    "duration": 0,
    "start_time": "2022-10-26T13:57:56.149Z"
   },
   {
    "duration": 0,
    "start_time": "2022-10-26T13:57:56.151Z"
   },
   {
    "duration": 0,
    "start_time": "2022-10-26T13:57:56.152Z"
   },
   {
    "duration": 0,
    "start_time": "2022-10-26T13:57:56.153Z"
   },
   {
    "duration": 0,
    "start_time": "2022-10-26T13:57:56.154Z"
   },
   {
    "duration": 0,
    "start_time": "2022-10-26T13:57:56.155Z"
   },
   {
    "duration": 0,
    "start_time": "2022-10-26T13:57:56.157Z"
   },
   {
    "duration": 0,
    "start_time": "2022-10-26T13:57:56.158Z"
   },
   {
    "duration": 0,
    "start_time": "2022-10-26T13:57:56.159Z"
   },
   {
    "duration": 0,
    "start_time": "2022-10-26T13:57:56.160Z"
   },
   {
    "duration": 0,
    "start_time": "2022-10-26T13:57:56.161Z"
   },
   {
    "duration": 0,
    "start_time": "2022-10-26T13:57:56.162Z"
   },
   {
    "duration": 0,
    "start_time": "2022-10-26T13:57:56.163Z"
   },
   {
    "duration": 0,
    "start_time": "2022-10-26T13:57:56.164Z"
   },
   {
    "duration": 2725,
    "start_time": "2022-10-26T13:58:23.391Z"
   },
   {
    "duration": 835,
    "start_time": "2022-10-26T13:58:27.688Z"
   },
   {
    "duration": 1172,
    "start_time": "2022-10-26T13:58:36.694Z"
   },
   {
    "duration": 125,
    "start_time": "2022-10-26T13:58:37.867Z"
   },
   {
    "duration": 0,
    "start_time": "2022-10-26T13:58:37.996Z"
   },
   {
    "duration": 0,
    "start_time": "2022-10-26T13:58:37.996Z"
   },
   {
    "duration": 0,
    "start_time": "2022-10-26T13:58:37.998Z"
   },
   {
    "duration": 0,
    "start_time": "2022-10-26T13:58:37.998Z"
   },
   {
    "duration": 0,
    "start_time": "2022-10-26T13:58:37.999Z"
   },
   {
    "duration": 0,
    "start_time": "2022-10-26T13:58:38.001Z"
   },
   {
    "duration": 0,
    "start_time": "2022-10-26T13:58:38.002Z"
   },
   {
    "duration": 0,
    "start_time": "2022-10-26T13:58:38.003Z"
   },
   {
    "duration": 0,
    "start_time": "2022-10-26T13:58:38.004Z"
   },
   {
    "duration": 0,
    "start_time": "2022-10-26T13:58:38.005Z"
   },
   {
    "duration": 0,
    "start_time": "2022-10-26T13:58:38.006Z"
   },
   {
    "duration": 0,
    "start_time": "2022-10-26T13:58:38.007Z"
   },
   {
    "duration": 0,
    "start_time": "2022-10-26T13:58:38.008Z"
   },
   {
    "duration": 0,
    "start_time": "2022-10-26T13:58:38.027Z"
   },
   {
    "duration": 0,
    "start_time": "2022-10-26T13:58:38.030Z"
   },
   {
    "duration": 0,
    "start_time": "2022-10-26T13:58:38.031Z"
   },
   {
    "duration": 0,
    "start_time": "2022-10-26T13:58:38.031Z"
   },
   {
    "duration": 0,
    "start_time": "2022-10-26T13:58:38.032Z"
   },
   {
    "duration": 0,
    "start_time": "2022-10-26T13:58:38.032Z"
   },
   {
    "duration": 0,
    "start_time": "2022-10-26T13:58:38.033Z"
   },
   {
    "duration": 0,
    "start_time": "2022-10-26T13:58:38.033Z"
   },
   {
    "duration": 0,
    "start_time": "2022-10-26T13:58:38.034Z"
   },
   {
    "duration": 0,
    "start_time": "2022-10-26T13:58:38.034Z"
   },
   {
    "duration": 0,
    "start_time": "2022-10-26T13:58:38.035Z"
   },
   {
    "duration": 0,
    "start_time": "2022-10-26T13:58:38.036Z"
   },
   {
    "duration": 0,
    "start_time": "2022-10-26T13:58:38.036Z"
   },
   {
    "duration": 0,
    "start_time": "2022-10-26T13:58:38.037Z"
   },
   {
    "duration": 0,
    "start_time": "2022-10-26T13:58:38.037Z"
   },
   {
    "duration": 0,
    "start_time": "2022-10-26T13:58:38.038Z"
   },
   {
    "duration": 0,
    "start_time": "2022-10-26T13:58:38.039Z"
   },
   {
    "duration": 0,
    "start_time": "2022-10-26T13:58:38.039Z"
   },
   {
    "duration": 0,
    "start_time": "2022-10-26T13:58:38.041Z"
   },
   {
    "duration": 0,
    "start_time": "2022-10-26T13:58:38.043Z"
   },
   {
    "duration": 1,
    "start_time": "2022-10-26T13:58:38.043Z"
   },
   {
    "duration": 0,
    "start_time": "2022-10-26T13:58:38.045Z"
   },
   {
    "duration": 0,
    "start_time": "2022-10-26T13:58:38.046Z"
   },
   {
    "duration": 0,
    "start_time": "2022-10-26T13:58:38.046Z"
   },
   {
    "duration": 0,
    "start_time": "2022-10-26T13:58:38.048Z"
   },
   {
    "duration": 0,
    "start_time": "2022-10-26T13:58:38.049Z"
   },
   {
    "duration": 0,
    "start_time": "2022-10-26T13:58:38.050Z"
   },
   {
    "duration": 0,
    "start_time": "2022-10-26T13:58:38.051Z"
   },
   {
    "duration": 0,
    "start_time": "2022-10-26T13:58:38.053Z"
   },
   {
    "duration": 0,
    "start_time": "2022-10-26T13:58:38.054Z"
   },
   {
    "duration": 0,
    "start_time": "2022-10-26T13:58:38.056Z"
   },
   {
    "duration": 0,
    "start_time": "2022-10-26T13:58:38.057Z"
   },
   {
    "duration": 0,
    "start_time": "2022-10-26T13:58:38.058Z"
   },
   {
    "duration": 0,
    "start_time": "2022-10-26T13:58:38.059Z"
   },
   {
    "duration": 0,
    "start_time": "2022-10-26T13:58:38.061Z"
   },
   {
    "duration": 0,
    "start_time": "2022-10-26T13:58:38.062Z"
   },
   {
    "duration": 0,
    "start_time": "2022-10-26T13:58:38.064Z"
   },
   {
    "duration": 0,
    "start_time": "2022-10-26T13:58:38.065Z"
   },
   {
    "duration": 1,
    "start_time": "2022-10-26T13:58:38.127Z"
   },
   {
    "duration": 0,
    "start_time": "2022-10-26T13:58:38.128Z"
   },
   {
    "duration": 144,
    "start_time": "2022-10-26T13:59:08.710Z"
   },
   {
    "duration": 1185,
    "start_time": "2022-10-26T13:59:19.234Z"
   },
   {
    "duration": 80,
    "start_time": "2022-10-26T13:59:20.421Z"
   },
   {
    "duration": 16,
    "start_time": "2022-10-26T13:59:20.503Z"
   },
   {
    "duration": 8,
    "start_time": "2022-10-26T13:59:20.521Z"
   },
   {
    "duration": 24,
    "start_time": "2022-10-26T13:59:20.530Z"
   },
   {
    "duration": 4,
    "start_time": "2022-10-26T13:59:20.555Z"
   },
   {
    "duration": 9,
    "start_time": "2022-10-26T13:59:20.560Z"
   },
   {
    "duration": 13,
    "start_time": "2022-10-26T13:59:20.570Z"
   },
   {
    "duration": 3,
    "start_time": "2022-10-26T13:59:20.584Z"
   },
   {
    "duration": 1002,
    "start_time": "2022-10-26T13:59:20.589Z"
   },
   {
    "duration": 15,
    "start_time": "2022-10-26T13:59:21.593Z"
   },
   {
    "duration": 21,
    "start_time": "2022-10-26T13:59:21.610Z"
   },
   {
    "duration": 4,
    "start_time": "2022-10-26T13:59:21.636Z"
   },
   {
    "duration": 10,
    "start_time": "2022-10-26T13:59:21.642Z"
   },
   {
    "duration": 11,
    "start_time": "2022-10-26T13:59:21.653Z"
   },
   {
    "duration": 473,
    "start_time": "2022-10-26T13:59:21.665Z"
   },
   {
    "duration": 12,
    "start_time": "2022-10-26T13:59:22.141Z"
   },
   {
    "duration": 28,
    "start_time": "2022-10-26T13:59:22.154Z"
   },
   {
    "duration": 64,
    "start_time": "2022-10-26T13:59:22.183Z"
   },
   {
    "duration": 140,
    "start_time": "2022-10-26T13:59:22.248Z"
   },
   {
    "duration": 5,
    "start_time": "2022-10-26T13:59:22.390Z"
   },
   {
    "duration": 20,
    "start_time": "2022-10-26T13:59:22.396Z"
   },
   {
    "duration": 42,
    "start_time": "2022-10-26T13:59:22.418Z"
   },
   {
    "duration": 24,
    "start_time": "2022-10-26T13:59:22.462Z"
   },
   {
    "duration": 92,
    "start_time": "2022-10-26T13:59:22.488Z"
   },
   {
    "duration": 3,
    "start_time": "2022-10-26T13:59:22.581Z"
   },
   {
    "duration": 27,
    "start_time": "2022-10-26T13:59:22.585Z"
   },
   {
    "duration": 46,
    "start_time": "2022-10-26T13:59:22.616Z"
   },
   {
    "duration": 108,
    "start_time": "2022-10-26T13:59:22.664Z"
   },
   {
    "duration": 5,
    "start_time": "2022-10-26T13:59:22.774Z"
   },
   {
    "duration": 270,
    "start_time": "2022-10-26T13:59:22.780Z"
   },
   {
    "duration": 6,
    "start_time": "2022-10-26T13:59:23.052Z"
   },
   {
    "duration": 93,
    "start_time": "2022-10-26T13:59:23.059Z"
   },
   {
    "duration": 5,
    "start_time": "2022-10-26T13:59:23.154Z"
   },
   {
    "duration": 18,
    "start_time": "2022-10-26T13:59:23.161Z"
   },
   {
    "duration": 161,
    "start_time": "2022-10-26T13:59:23.181Z"
   },
   {
    "duration": 11,
    "start_time": "2022-10-26T13:59:23.344Z"
   },
   {
    "duration": 123,
    "start_time": "2022-10-26T13:59:23.357Z"
   },
   {
    "duration": 16,
    "start_time": "2022-10-26T13:59:23.482Z"
   },
   {
    "duration": 28,
    "start_time": "2022-10-26T13:59:23.501Z"
   },
   {
    "duration": 44,
    "start_time": "2022-10-26T13:59:23.532Z"
   },
   {
    "duration": 10,
    "start_time": "2022-10-26T13:59:23.578Z"
   },
   {
    "duration": 29,
    "start_time": "2022-10-26T13:59:23.589Z"
   },
   {
    "duration": 304,
    "start_time": "2022-10-26T13:59:23.619Z"
   },
   {
    "duration": 16,
    "start_time": "2022-10-26T13:59:23.933Z"
   },
   {
    "duration": 22,
    "start_time": "2022-10-26T13:59:23.951Z"
   },
   {
    "duration": 28,
    "start_time": "2022-10-26T13:59:23.974Z"
   },
   {
    "duration": 236,
    "start_time": "2022-10-26T13:59:24.004Z"
   },
   {
    "duration": 0,
    "start_time": "2022-10-26T13:59:24.241Z"
   },
   {
    "duration": 0,
    "start_time": "2022-10-26T13:59:24.243Z"
   },
   {
    "duration": 0,
    "start_time": "2022-10-26T13:59:24.244Z"
   },
   {
    "duration": 0,
    "start_time": "2022-10-26T13:59:24.245Z"
   },
   {
    "duration": 0,
    "start_time": "2022-10-26T13:59:24.246Z"
   },
   {
    "duration": 0,
    "start_time": "2022-10-26T13:59:24.247Z"
   },
   {
    "duration": 0,
    "start_time": "2022-10-26T13:59:24.248Z"
   },
   {
    "duration": 35,
    "start_time": "2022-10-26T14:31:36.697Z"
   },
   {
    "duration": 35,
    "start_time": "2022-10-26T14:31:43.014Z"
   },
   {
    "duration": 8,
    "start_time": "2022-10-26T14:31:55.743Z"
   },
   {
    "duration": 4,
    "start_time": "2022-10-26T14:31:56.969Z"
   },
   {
    "duration": 26,
    "start_time": "2022-10-26T14:31:57.945Z"
   },
   {
    "duration": 36,
    "start_time": "2022-10-26T14:31:58.495Z"
   },
   {
    "duration": 57,
    "start_time": "2022-10-26T15:10:45.062Z"
   },
   {
    "duration": 51,
    "start_time": "2022-10-26T15:11:15.156Z"
   },
   {
    "duration": 544,
    "start_time": "2022-10-26T15:24:24.590Z"
   },
   {
    "duration": 3675,
    "start_time": "2022-10-26T15:24:56.713Z"
   },
   {
    "duration": 2120,
    "start_time": "2022-10-26T15:25:12.783Z"
   },
   {
    "duration": 3,
    "start_time": "2022-10-26T15:25:21.729Z"
   },
   {
    "duration": 118,
    "start_time": "2022-10-26T15:25:25.438Z"
   },
   {
    "duration": 20,
    "start_time": "2022-10-26T15:25:38.253Z"
   },
   {
    "duration": 13,
    "start_time": "2022-10-26T15:25:52.051Z"
   },
   {
    "duration": 4,
    "start_time": "2022-10-26T15:26:51.101Z"
   },
   {
    "duration": 14,
    "start_time": "2022-10-26T15:26:53.318Z"
   },
   {
    "duration": 5,
    "start_time": "2022-10-26T15:26:59.714Z"
   },
   {
    "duration": 5,
    "start_time": "2022-10-26T15:27:03.746Z"
   },
   {
    "duration": 13,
    "start_time": "2022-10-26T15:27:07.148Z"
   },
   {
    "duration": 2,
    "start_time": "2022-10-26T15:27:08.899Z"
   },
   {
    "duration": 1115,
    "start_time": "2022-10-26T15:27:12.688Z"
   },
   {
    "duration": 16,
    "start_time": "2022-10-26T15:27:25.062Z"
   },
   {
    "duration": 9,
    "start_time": "2022-10-26T15:27:28.643Z"
   },
   {
    "duration": 4,
    "start_time": "2022-10-26T15:27:45.762Z"
   },
   {
    "duration": 5,
    "start_time": "2022-10-26T15:28:15.580Z"
   },
   {
    "duration": 11,
    "start_time": "2022-10-26T15:38:30.682Z"
   },
   {
    "duration": 487,
    "start_time": "2022-10-26T15:38:51.855Z"
   },
   {
    "duration": 12,
    "start_time": "2022-10-26T15:39:19.551Z"
   },
   {
    "duration": 16,
    "start_time": "2022-10-26T15:39:54.578Z"
   },
   {
    "duration": 18,
    "start_time": "2022-10-26T15:40:00.968Z"
   },
   {
    "duration": 83,
    "start_time": "2022-10-26T15:40:18.057Z"
   },
   {
    "duration": 6,
    "start_time": "2022-10-26T15:40:40.700Z"
   },
   {
    "duration": 3,
    "start_time": "2022-10-26T15:44:45.846Z"
   },
   {
    "duration": 13,
    "start_time": "2022-10-26T15:44:47.311Z"
   },
   {
    "duration": 6,
    "start_time": "2022-10-26T15:45:16.338Z"
   },
   {
    "duration": 8,
    "start_time": "2022-10-26T15:45:24.388Z"
   },
   {
    "duration": 4,
    "start_time": "2022-10-26T15:48:12.517Z"
   },
   {
    "duration": 8,
    "start_time": "2022-10-26T15:48:13.390Z"
   },
   {
    "duration": 12,
    "start_time": "2022-10-26T15:48:53.303Z"
   },
   {
    "duration": 6,
    "start_time": "2022-10-26T15:49:00.860Z"
   },
   {
    "duration": 67,
    "start_time": "2022-10-26T15:49:15.728Z"
   },
   {
    "duration": 3,
    "start_time": "2022-10-26T15:58:01.947Z"
   },
   {
    "duration": 9,
    "start_time": "2022-10-26T15:58:34.696Z"
   },
   {
    "duration": 18,
    "start_time": "2022-10-26T15:58:41.946Z"
   },
   {
    "duration": 17,
    "start_time": "2022-10-26T15:59:50.192Z"
   },
   {
    "duration": 13,
    "start_time": "2022-10-26T16:00:06.986Z"
   },
   {
    "duration": 47,
    "start_time": "2022-10-26T16:00:08.488Z"
   },
   {
    "duration": 64,
    "start_time": "2022-10-26T16:00:32.564Z"
   },
   {
    "duration": 5,
    "start_time": "2022-10-26T16:06:25.492Z"
   },
   {
    "duration": 255,
    "start_time": "2022-10-26T16:07:01.311Z"
   },
   {
    "duration": 6,
    "start_time": "2022-10-26T16:07:28.617Z"
   },
   {
    "duration": 56,
    "start_time": "2022-10-26T16:07:53.557Z"
   },
   {
    "duration": 119,
    "start_time": "2022-10-26T16:08:00.590Z"
   },
   {
    "duration": 6,
    "start_time": "2022-10-26T16:08:10.315Z"
   },
   {
    "duration": 5,
    "start_time": "2022-10-26T16:09:30.619Z"
   },
   {
    "duration": 6,
    "start_time": "2022-10-26T16:10:24.892Z"
   },
   {
    "duration": 98,
    "start_time": "2022-10-26T16:11:26.773Z"
   },
   {
    "duration": 6,
    "start_time": "2022-10-26T16:11:51.991Z"
   },
   {
    "duration": 78,
    "start_time": "2022-10-26T16:11:53.232Z"
   },
   {
    "duration": 10,
    "start_time": "2022-10-26T16:12:06.802Z"
   },
   {
    "duration": 85,
    "start_time": "2022-10-26T16:14:18.058Z"
   },
   {
    "duration": 12,
    "start_time": "2022-10-26T16:14:26.374Z"
   },
   {
    "duration": 9,
    "start_time": "2022-10-26T16:19:17.123Z"
   },
   {
    "duration": 52,
    "start_time": "2022-10-26T16:19:18.562Z"
   },
   {
    "duration": 9,
    "start_time": "2022-10-26T16:20:44.797Z"
   },
   {
    "duration": 50,
    "start_time": "2022-10-26T16:20:50.141Z"
   },
   {
    "duration": 8,
    "start_time": "2022-10-26T16:21:49.195Z"
   },
   {
    "duration": 12,
    "start_time": "2022-10-26T16:22:52.576Z"
   },
   {
    "duration": 214,
    "start_time": "2022-10-26T16:22:53.454Z"
   },
   {
    "duration": 126,
    "start_time": "2022-10-26T16:23:32.029Z"
   },
   {
    "duration": 119,
    "start_time": "2022-10-26T16:23:45.730Z"
   },
   {
    "duration": 14,
    "start_time": "2022-10-26T16:24:00.577Z"
   },
   {
    "duration": 7,
    "start_time": "2022-10-26T16:29:26.842Z"
   },
   {
    "duration": 31,
    "start_time": "2022-10-26T16:29:42.505Z"
   },
   {
    "duration": 28,
    "start_time": "2022-10-26T16:31:16.896Z"
   },
   {
    "duration": 6,
    "start_time": "2022-10-26T16:33:15.893Z"
   },
   {
    "duration": 27,
    "start_time": "2022-10-26T16:33:20.406Z"
   },
   {
    "duration": 6,
    "start_time": "2022-10-26T16:36:22.451Z"
   },
   {
    "duration": 28,
    "start_time": "2022-10-26T16:36:25.195Z"
   },
   {
    "duration": 6,
    "start_time": "2022-10-26T16:40:00.929Z"
   },
   {
    "duration": 26,
    "start_time": "2022-10-26T16:40:05.556Z"
   },
   {
    "duration": 7,
    "start_time": "2022-10-26T16:40:19.485Z"
   },
   {
    "duration": 29,
    "start_time": "2022-10-26T16:40:23.298Z"
   },
   {
    "duration": 7,
    "start_time": "2022-10-26T16:41:35.619Z"
   },
   {
    "duration": 33,
    "start_time": "2022-10-26T16:41:38.219Z"
   },
   {
    "duration": 3,
    "start_time": "2022-10-26T16:42:06.554Z"
   },
   {
    "duration": 66,
    "start_time": "2022-10-26T16:42:06.561Z"
   },
   {
    "duration": 10,
    "start_time": "2022-10-26T16:42:06.629Z"
   },
   {
    "duration": 8,
    "start_time": "2022-10-26T16:42:06.640Z"
   },
   {
    "duration": 19,
    "start_time": "2022-10-26T16:42:06.650Z"
   },
   {
    "duration": 5,
    "start_time": "2022-10-26T16:42:06.671Z"
   },
   {
    "duration": 8,
    "start_time": "2022-10-26T16:42:06.677Z"
   },
   {
    "duration": 15,
    "start_time": "2022-10-26T16:42:06.687Z"
   },
   {
    "duration": 3,
    "start_time": "2022-10-26T16:42:06.703Z"
   },
   {
    "duration": 1051,
    "start_time": "2022-10-26T16:42:06.708Z"
   },
   {
    "duration": 17,
    "start_time": "2022-10-26T16:42:07.761Z"
   },
   {
    "duration": 10,
    "start_time": "2022-10-26T16:42:07.779Z"
   },
   {
    "duration": 6,
    "start_time": "2022-10-26T16:42:07.791Z"
   },
   {
    "duration": 11,
    "start_time": "2022-10-26T16:42:07.798Z"
   },
   {
    "duration": 29,
    "start_time": "2022-10-26T16:42:07.811Z"
   },
   {
    "duration": 41,
    "start_time": "2022-10-26T16:42:07.842Z"
   },
   {
    "duration": 10,
    "start_time": "2022-10-26T16:42:07.884Z"
   },
   {
    "duration": 15,
    "start_time": "2022-10-26T16:42:07.895Z"
   },
   {
    "duration": 33,
    "start_time": "2022-10-26T16:42:07.912Z"
   },
   {
    "duration": 95,
    "start_time": "2022-10-26T16:42:07.946Z"
   },
   {
    "duration": 5,
    "start_time": "2022-10-26T16:42:08.043Z"
   },
   {
    "duration": 12,
    "start_time": "2022-10-26T16:42:08.049Z"
   },
   {
    "duration": 17,
    "start_time": "2022-10-26T16:42:08.063Z"
   },
   {
    "duration": 9,
    "start_time": "2022-10-26T16:42:08.081Z"
   },
   {
    "duration": 9,
    "start_time": "2022-10-26T16:42:08.091Z"
   },
   {
    "duration": 75,
    "start_time": "2022-10-26T16:42:08.101Z"
   },
   {
    "duration": 3,
    "start_time": "2022-10-26T16:42:08.178Z"
   },
   {
    "duration": 14,
    "start_time": "2022-10-26T16:42:08.182Z"
   },
   {
    "duration": 23,
    "start_time": "2022-10-26T16:42:08.200Z"
   },
   {
    "duration": 72,
    "start_time": "2022-10-26T16:42:08.224Z"
   },
   {
    "duration": 7,
    "start_time": "2022-10-26T16:42:08.297Z"
   },
   {
    "duration": 75,
    "start_time": "2022-10-26T16:42:08.307Z"
   },
   {
    "duration": 5,
    "start_time": "2022-10-26T16:42:08.384Z"
   },
   {
    "duration": 73,
    "start_time": "2022-10-26T16:42:08.390Z"
   },
   {
    "duration": 6,
    "start_time": "2022-10-26T16:42:08.465Z"
   },
   {
    "duration": 7,
    "start_time": "2022-10-26T16:42:08.473Z"
   },
   {
    "duration": 94,
    "start_time": "2022-10-26T16:42:08.481Z"
   },
   {
    "duration": 9,
    "start_time": "2022-10-26T16:42:08.577Z"
   },
   {
    "duration": 88,
    "start_time": "2022-10-26T16:42:08.587Z"
   },
   {
    "duration": 9,
    "start_time": "2022-10-26T16:42:08.676Z"
   },
   {
    "duration": 9,
    "start_time": "2022-10-26T16:42:08.687Z"
   },
   {
    "duration": 72,
    "start_time": "2022-10-26T16:42:08.697Z"
   },
   {
    "duration": 16,
    "start_time": "2022-10-26T16:42:08.771Z"
   },
   {
    "duration": 137,
    "start_time": "2022-10-26T16:42:08.789Z"
   },
   {
    "duration": 15,
    "start_time": "2022-10-26T16:42:08.928Z"
   },
   {
    "duration": 8,
    "start_time": "2022-10-26T16:42:08.944Z"
   },
   {
    "duration": 29,
    "start_time": "2022-10-26T16:42:48.981Z"
   },
   {
    "duration": 8,
    "start_time": "2022-10-26T16:45:26.314Z"
   },
   {
    "duration": 26,
    "start_time": "2022-10-26T16:45:29.161Z"
   },
   {
    "duration": 7,
    "start_time": "2022-10-26T16:47:21.695Z"
   },
   {
    "duration": 27,
    "start_time": "2022-10-26T16:47:22.493Z"
   },
   {
    "duration": 7,
    "start_time": "2022-10-26T16:47:36.139Z"
   },
   {
    "duration": 28,
    "start_time": "2022-10-26T16:47:37.574Z"
   },
   {
    "duration": 7,
    "start_time": "2022-10-26T16:47:57.760Z"
   },
   {
    "duration": 26,
    "start_time": "2022-10-26T16:47:58.459Z"
   },
   {
    "duration": 6,
    "start_time": "2022-10-26T16:48:11.666Z"
   },
   {
    "duration": 25,
    "start_time": "2022-10-26T16:48:12.371Z"
   },
   {
    "duration": 25,
    "start_time": "2022-10-26T16:51:10.088Z"
   },
   {
    "duration": 12,
    "start_time": "2022-10-26T16:51:13.996Z"
   },
   {
    "duration": 4,
    "start_time": "2022-10-26T16:51:30.216Z"
   },
   {
    "duration": 26,
    "start_time": "2022-10-26T16:51:31.669Z"
   },
   {
    "duration": 159,
    "start_time": "2022-10-26T16:51:34.259Z"
   },
   {
    "duration": 24,
    "start_time": "2022-10-26T16:52:45.965Z"
   },
   {
    "duration": 259,
    "start_time": "2022-10-26T16:52:48.247Z"
   },
   {
    "duration": 24,
    "start_time": "2022-10-26T16:53:02.943Z"
   },
   {
    "duration": 165,
    "start_time": "2022-10-26T16:53:03.610Z"
   },
   {
    "duration": 3,
    "start_time": "2022-10-26T17:12:33.941Z"
   },
   {
    "duration": 77,
    "start_time": "2022-10-26T17:12:33.948Z"
   },
   {
    "duration": 11,
    "start_time": "2022-10-26T17:12:34.027Z"
   },
   {
    "duration": 5,
    "start_time": "2022-10-26T17:12:34.040Z"
   },
   {
    "duration": 16,
    "start_time": "2022-10-26T17:12:34.047Z"
   },
   {
    "duration": 4,
    "start_time": "2022-10-26T17:12:34.064Z"
   },
   {
    "duration": 11,
    "start_time": "2022-10-26T17:12:34.070Z"
   },
   {
    "duration": 19,
    "start_time": "2022-10-26T17:12:34.082Z"
   },
   {
    "duration": 4,
    "start_time": "2022-10-26T17:12:34.102Z"
   },
   {
    "duration": 1013,
    "start_time": "2022-10-26T17:12:34.108Z"
   },
   {
    "duration": 22,
    "start_time": "2022-10-26T17:12:35.124Z"
   },
   {
    "duration": 9,
    "start_time": "2022-10-26T17:12:35.147Z"
   },
   {
    "duration": 5,
    "start_time": "2022-10-26T17:12:35.158Z"
   },
   {
    "duration": 6,
    "start_time": "2022-10-26T17:12:35.165Z"
   },
   {
    "duration": 12,
    "start_time": "2022-10-26T17:12:35.172Z"
   },
   {
    "duration": 74,
    "start_time": "2022-10-26T17:12:35.185Z"
   },
   {
    "duration": 10,
    "start_time": "2022-10-26T17:12:35.261Z"
   },
   {
    "duration": 17,
    "start_time": "2022-10-26T17:12:35.273Z"
   },
   {
    "duration": 17,
    "start_time": "2022-10-26T17:12:35.292Z"
   },
   {
    "duration": 106,
    "start_time": "2022-10-26T17:12:35.311Z"
   },
   {
    "duration": 19,
    "start_time": "2022-10-26T17:12:35.418Z"
   },
   {
    "duration": 4,
    "start_time": "2022-10-26T17:12:35.439Z"
   },
   {
    "duration": 13,
    "start_time": "2022-10-26T17:12:35.445Z"
   },
   {
    "duration": 8,
    "start_time": "2022-10-26T17:12:35.460Z"
   },
   {
    "duration": 6,
    "start_time": "2022-10-26T17:12:35.469Z"
   },
   {
    "duration": 82,
    "start_time": "2022-10-26T17:12:35.476Z"
   },
   {
    "duration": 3,
    "start_time": "2022-10-26T17:12:35.560Z"
   },
   {
    "duration": 10,
    "start_time": "2022-10-26T17:12:35.565Z"
   },
   {
    "duration": 10,
    "start_time": "2022-10-26T17:12:35.580Z"
   },
   {
    "duration": 88,
    "start_time": "2022-10-26T17:12:35.592Z"
   },
   {
    "duration": 7,
    "start_time": "2022-10-26T17:12:35.681Z"
   },
   {
    "duration": 67,
    "start_time": "2022-10-26T17:12:35.690Z"
   },
   {
    "duration": 6,
    "start_time": "2022-10-26T17:12:35.758Z"
   },
   {
    "duration": 76,
    "start_time": "2022-10-26T17:12:35.766Z"
   },
   {
    "duration": 6,
    "start_time": "2022-10-26T17:12:35.844Z"
   },
   {
    "duration": 8,
    "start_time": "2022-10-26T17:12:35.852Z"
   },
   {
    "duration": 96,
    "start_time": "2022-10-26T17:12:35.861Z"
   },
   {
    "duration": 12,
    "start_time": "2022-10-26T17:12:35.959Z"
   },
   {
    "duration": 94,
    "start_time": "2022-10-26T17:12:35.973Z"
   },
   {
    "duration": 11,
    "start_time": "2022-10-26T17:12:36.069Z"
   },
   {
    "duration": 12,
    "start_time": "2022-10-26T17:12:36.082Z"
   },
   {
    "duration": 68,
    "start_time": "2022-10-26T17:12:36.095Z"
   },
   {
    "duration": 12,
    "start_time": "2022-10-26T17:12:36.164Z"
   },
   {
    "duration": 176,
    "start_time": "2022-10-26T17:12:36.178Z"
   },
   {
    "duration": 18,
    "start_time": "2022-10-26T17:12:36.356Z"
   },
   {
    "duration": 9,
    "start_time": "2022-10-26T17:12:36.377Z"
   },
   {
    "duration": 14,
    "start_time": "2022-10-26T17:12:36.389Z"
   },
   {
    "duration": 39,
    "start_time": "2022-10-26T17:12:36.433Z"
   },
   {
    "duration": 172,
    "start_time": "2022-10-26T17:12:36.473Z"
   },
   {
    "duration": 26,
    "start_time": "2022-10-26T17:12:36.646Z"
   },
   {
    "duration": 183,
    "start_time": "2022-10-26T17:12:36.674Z"
   },
   {
    "duration": 21,
    "start_time": "2022-10-26T17:12:36.858Z"
   },
   {
    "duration": 174,
    "start_time": "2022-10-26T17:12:36.881Z"
   },
   {
    "duration": 11,
    "start_time": "2022-10-26T17:12:37.057Z"
   },
   {
    "duration": 8,
    "start_time": "2022-10-26T17:12:37.070Z"
   },
   {
    "duration": 3,
    "start_time": "2022-10-26T17:14:15.141Z"
   },
   {
    "duration": 72,
    "start_time": "2022-10-26T17:14:15.156Z"
   },
   {
    "duration": 12,
    "start_time": "2022-10-26T17:14:15.230Z"
   },
   {
    "duration": 5,
    "start_time": "2022-10-26T17:14:15.244Z"
   },
   {
    "duration": 17,
    "start_time": "2022-10-26T17:14:15.251Z"
   },
   {
    "duration": 5,
    "start_time": "2022-10-26T17:14:15.269Z"
   },
   {
    "duration": 6,
    "start_time": "2022-10-26T17:14:15.276Z"
   },
   {
    "duration": 13,
    "start_time": "2022-10-26T17:14:15.284Z"
   },
   {
    "duration": 3,
    "start_time": "2022-10-26T17:14:15.299Z"
   },
   {
    "duration": 1034,
    "start_time": "2022-10-26T17:14:15.311Z"
   },
   {
    "duration": 24,
    "start_time": "2022-10-26T17:14:16.348Z"
   },
   {
    "duration": 10,
    "start_time": "2022-10-26T17:14:16.374Z"
   },
   {
    "duration": 8,
    "start_time": "2022-10-26T17:14:16.386Z"
   },
   {
    "duration": 17,
    "start_time": "2022-10-26T17:14:16.396Z"
   },
   {
    "duration": 40,
    "start_time": "2022-10-26T17:14:16.415Z"
   },
   {
    "duration": 49,
    "start_time": "2022-10-26T17:14:16.457Z"
   },
   {
    "duration": 10,
    "start_time": "2022-10-26T17:14:16.508Z"
   },
   {
    "duration": 28,
    "start_time": "2022-10-26T17:14:16.520Z"
   },
   {
    "duration": 18,
    "start_time": "2022-10-26T17:14:16.551Z"
   },
   {
    "duration": 100,
    "start_time": "2022-10-26T17:14:16.571Z"
   },
   {
    "duration": 5,
    "start_time": "2022-10-26T17:14:16.673Z"
   },
   {
    "duration": 6,
    "start_time": "2022-10-26T17:14:16.680Z"
   },
   {
    "duration": 13,
    "start_time": "2022-10-26T17:14:16.687Z"
   },
   {
    "duration": 10,
    "start_time": "2022-10-26T17:14:16.702Z"
   },
   {
    "duration": 22,
    "start_time": "2022-10-26T17:14:16.713Z"
   },
   {
    "duration": 69,
    "start_time": "2022-10-26T17:14:16.737Z"
   },
   {
    "duration": 3,
    "start_time": "2022-10-26T17:14:16.807Z"
   },
   {
    "duration": 24,
    "start_time": "2022-10-26T17:14:16.812Z"
   },
   {
    "duration": 13,
    "start_time": "2022-10-26T17:14:16.837Z"
   },
   {
    "duration": 84,
    "start_time": "2022-10-26T17:14:16.852Z"
   },
   {
    "duration": 6,
    "start_time": "2022-10-26T17:14:16.938Z"
   },
   {
    "duration": 55,
    "start_time": "2022-10-26T17:14:16.946Z"
   },
   {
    "duration": 5,
    "start_time": "2022-10-26T17:14:17.002Z"
   },
   {
    "duration": 54,
    "start_time": "2022-10-26T17:14:17.034Z"
   },
   {
    "duration": 5,
    "start_time": "2022-10-26T17:14:17.090Z"
   },
   {
    "duration": 11,
    "start_time": "2022-10-26T17:14:17.097Z"
   },
   {
    "duration": 197,
    "start_time": "2022-10-26T17:14:17.111Z"
   },
   {
    "duration": 10,
    "start_time": "2022-10-26T17:14:17.309Z"
   },
   {
    "duration": 73,
    "start_time": "2022-10-26T17:14:17.333Z"
   },
   {
    "duration": 9,
    "start_time": "2022-10-26T17:14:17.408Z"
   },
   {
    "duration": 23,
    "start_time": "2022-10-26T17:14:17.418Z"
   },
   {
    "duration": 42,
    "start_time": "2022-10-26T17:14:17.443Z"
   },
   {
    "duration": 12,
    "start_time": "2022-10-26T17:14:17.486Z"
   },
   {
    "duration": 143,
    "start_time": "2022-10-26T17:14:17.500Z"
   },
   {
    "duration": 14,
    "start_time": "2022-10-26T17:14:17.644Z"
   },
   {
    "duration": 7,
    "start_time": "2022-10-26T17:14:17.660Z"
   },
   {
    "duration": 9,
    "start_time": "2022-10-26T17:14:17.668Z"
   },
   {
    "duration": 55,
    "start_time": "2022-10-26T17:14:17.679Z"
   },
   {
    "duration": 163,
    "start_time": "2022-10-26T17:14:17.736Z"
   },
   {
    "duration": 38,
    "start_time": "2022-10-26T17:14:17.901Z"
   },
   {
    "duration": 165,
    "start_time": "2022-10-26T17:14:17.941Z"
   },
   {
    "duration": 33,
    "start_time": "2022-10-26T17:14:18.108Z"
   },
   {
    "duration": 168,
    "start_time": "2022-10-26T17:14:18.143Z"
   },
   {
    "duration": 26,
    "start_time": "2022-10-26T17:14:18.313Z"
   },
   {
    "duration": 7,
    "start_time": "2022-10-26T17:14:18.340Z"
   },
   {
    "duration": 563,
    "start_time": "2022-10-27T14:51:12.631Z"
   },
   {
    "duration": 0,
    "start_time": "2022-10-27T14:51:13.236Z"
   },
   {
    "duration": 0,
    "start_time": "2022-10-27T14:51:13.237Z"
   },
   {
    "duration": 0,
    "start_time": "2022-10-27T14:51:13.238Z"
   },
   {
    "duration": 0,
    "start_time": "2022-10-27T14:51:13.239Z"
   },
   {
    "duration": 0,
    "start_time": "2022-10-27T14:51:13.240Z"
   },
   {
    "duration": 0,
    "start_time": "2022-10-27T14:51:13.241Z"
   },
   {
    "duration": 0,
    "start_time": "2022-10-27T14:51:13.242Z"
   },
   {
    "duration": 0,
    "start_time": "2022-10-27T14:51:13.242Z"
   },
   {
    "duration": 0,
    "start_time": "2022-10-27T14:51:13.243Z"
   },
   {
    "duration": 0,
    "start_time": "2022-10-27T14:51:13.244Z"
   },
   {
    "duration": 0,
    "start_time": "2022-10-27T14:51:13.245Z"
   },
   {
    "duration": 0,
    "start_time": "2022-10-27T14:51:13.246Z"
   },
   {
    "duration": 0,
    "start_time": "2022-10-27T14:51:13.247Z"
   },
   {
    "duration": 0,
    "start_time": "2022-10-27T14:51:13.248Z"
   },
   {
    "duration": 0,
    "start_time": "2022-10-27T14:51:13.248Z"
   },
   {
    "duration": 0,
    "start_time": "2022-10-27T14:51:13.250Z"
   },
   {
    "duration": 0,
    "start_time": "2022-10-27T14:51:13.251Z"
   },
   {
    "duration": 0,
    "start_time": "2022-10-27T14:51:13.252Z"
   },
   {
    "duration": 0,
    "start_time": "2022-10-27T14:51:13.252Z"
   },
   {
    "duration": 0,
    "start_time": "2022-10-27T14:51:13.253Z"
   },
   {
    "duration": 0,
    "start_time": "2022-10-27T14:51:13.254Z"
   },
   {
    "duration": 0,
    "start_time": "2022-10-27T14:51:13.255Z"
   },
   {
    "duration": 0,
    "start_time": "2022-10-27T14:51:13.256Z"
   },
   {
    "duration": 0,
    "start_time": "2022-10-27T14:51:13.257Z"
   },
   {
    "duration": 0,
    "start_time": "2022-10-27T14:51:13.258Z"
   },
   {
    "duration": 0,
    "start_time": "2022-10-27T14:51:13.259Z"
   },
   {
    "duration": 0,
    "start_time": "2022-10-27T14:51:13.260Z"
   },
   {
    "duration": 0,
    "start_time": "2022-10-27T14:51:13.261Z"
   },
   {
    "duration": 0,
    "start_time": "2022-10-27T14:51:13.262Z"
   },
   {
    "duration": 0,
    "start_time": "2022-10-27T14:51:13.263Z"
   },
   {
    "duration": 0,
    "start_time": "2022-10-27T14:51:13.264Z"
   },
   {
    "duration": 0,
    "start_time": "2022-10-27T14:51:13.264Z"
   },
   {
    "duration": 0,
    "start_time": "2022-10-27T14:51:13.265Z"
   },
   {
    "duration": 0,
    "start_time": "2022-10-27T14:51:13.266Z"
   },
   {
    "duration": 0,
    "start_time": "2022-10-27T14:51:13.267Z"
   },
   {
    "duration": 0,
    "start_time": "2022-10-27T14:51:13.268Z"
   },
   {
    "duration": 0,
    "start_time": "2022-10-27T14:51:13.269Z"
   },
   {
    "duration": 1,
    "start_time": "2022-10-27T14:51:13.269Z"
   },
   {
    "duration": 0,
    "start_time": "2022-10-27T14:51:13.271Z"
   },
   {
    "duration": 0,
    "start_time": "2022-10-27T14:51:13.321Z"
   },
   {
    "duration": 0,
    "start_time": "2022-10-27T14:51:13.322Z"
   },
   {
    "duration": 0,
    "start_time": "2022-10-27T14:51:13.323Z"
   },
   {
    "duration": 0,
    "start_time": "2022-10-27T14:51:13.324Z"
   },
   {
    "duration": 0,
    "start_time": "2022-10-27T14:51:13.326Z"
   },
   {
    "duration": 0,
    "start_time": "2022-10-27T14:51:13.327Z"
   },
   {
    "duration": 0,
    "start_time": "2022-10-27T14:51:13.329Z"
   },
   {
    "duration": 0,
    "start_time": "2022-10-27T14:51:13.330Z"
   },
   {
    "duration": 0,
    "start_time": "2022-10-27T14:51:13.334Z"
   },
   {
    "duration": 0,
    "start_time": "2022-10-27T14:51:13.335Z"
   },
   {
    "duration": 0,
    "start_time": "2022-10-27T14:51:13.336Z"
   },
   {
    "duration": 0,
    "start_time": "2022-10-27T14:51:13.337Z"
   },
   {
    "duration": 0,
    "start_time": "2022-10-27T14:51:13.338Z"
   },
   {
    "duration": 0,
    "start_time": "2022-10-27T14:51:13.340Z"
   },
   {
    "duration": 0,
    "start_time": "2022-10-27T14:51:13.341Z"
   },
   {
    "duration": 2505,
    "start_time": "2022-10-27T14:51:57.198Z"
   },
   {
    "duration": 4,
    "start_time": "2022-10-27T14:52:05.859Z"
   },
   {
    "duration": 1202,
    "start_time": "2022-10-27T14:52:05.866Z"
   },
   {
    "duration": 86,
    "start_time": "2022-10-27T14:52:07.070Z"
   },
   {
    "duration": 17,
    "start_time": "2022-10-27T14:52:07.158Z"
   },
   {
    "duration": 3,
    "start_time": "2022-10-27T14:52:07.176Z"
   },
   {
    "duration": 23,
    "start_time": "2022-10-27T14:52:07.181Z"
   },
   {
    "duration": 4,
    "start_time": "2022-10-27T14:52:07.205Z"
   },
   {
    "duration": 10,
    "start_time": "2022-10-27T14:52:07.211Z"
   },
   {
    "duration": 13,
    "start_time": "2022-10-27T14:52:07.224Z"
   },
   {
    "duration": 3,
    "start_time": "2022-10-27T14:52:07.239Z"
   },
   {
    "duration": 1038,
    "start_time": "2022-10-27T14:52:07.243Z"
   },
   {
    "duration": 18,
    "start_time": "2022-10-27T14:52:08.282Z"
   },
   {
    "duration": 23,
    "start_time": "2022-10-27T14:52:08.302Z"
   },
   {
    "duration": 5,
    "start_time": "2022-10-27T14:52:08.327Z"
   },
   {
    "duration": 8,
    "start_time": "2022-10-27T14:52:08.334Z"
   },
   {
    "duration": 12,
    "start_time": "2022-10-27T14:52:08.343Z"
   },
   {
    "duration": 453,
    "start_time": "2022-10-27T14:52:08.357Z"
   },
   {
    "duration": 12,
    "start_time": "2022-10-27T14:52:08.812Z"
   },
   {
    "duration": 22,
    "start_time": "2022-10-27T14:52:08.825Z"
   },
   {
    "duration": 20,
    "start_time": "2022-10-27T14:52:08.848Z"
   },
   {
    "duration": 182,
    "start_time": "2022-10-27T14:52:08.870Z"
   },
   {
    "duration": 6,
    "start_time": "2022-10-27T14:52:09.054Z"
   },
   {
    "duration": 9,
    "start_time": "2022-10-27T14:52:09.062Z"
   },
   {
    "duration": 15,
    "start_time": "2022-10-27T14:52:09.075Z"
   },
   {
    "duration": 30,
    "start_time": "2022-10-27T14:52:09.091Z"
   },
   {
    "duration": 7,
    "start_time": "2022-10-27T14:52:09.123Z"
   },
   {
    "duration": 94,
    "start_time": "2022-10-27T14:52:09.132Z"
   },
   {
    "duration": 2,
    "start_time": "2022-10-27T14:52:09.228Z"
   },
   {
    "duration": 20,
    "start_time": "2022-10-27T14:52:09.232Z"
   },
   {
    "duration": 17,
    "start_time": "2022-10-27T14:52:09.253Z"
   },
   {
    "duration": 76,
    "start_time": "2022-10-27T14:52:09.271Z"
   },
   {
    "duration": 6,
    "start_time": "2022-10-27T14:52:09.348Z"
   },
   {
    "duration": 746,
    "start_time": "2022-10-27T14:52:09.356Z"
   },
   {
    "duration": 5,
    "start_time": "2022-10-27T14:52:10.103Z"
   },
   {
    "duration": 66,
    "start_time": "2022-10-27T14:52:10.110Z"
   },
   {
    "duration": 5,
    "start_time": "2022-10-27T14:52:10.178Z"
   },
   {
    "duration": 9,
    "start_time": "2022-10-27T14:52:10.184Z"
   },
   {
    "duration": 105,
    "start_time": "2022-10-27T14:52:10.194Z"
   },
   {
    "duration": 10,
    "start_time": "2022-10-27T14:52:10.300Z"
   },
   {
    "duration": 75,
    "start_time": "2022-10-27T14:52:10.312Z"
   },
   {
    "duration": 10,
    "start_time": "2022-10-27T14:52:10.389Z"
   },
   {
    "duration": 27,
    "start_time": "2022-10-27T14:52:10.400Z"
   },
   {
    "duration": 47,
    "start_time": "2022-10-27T14:52:10.429Z"
   },
   {
    "duration": 12,
    "start_time": "2022-10-27T14:52:10.478Z"
   },
   {
    "duration": 229,
    "start_time": "2022-10-27T14:52:10.492Z"
   },
   {
    "duration": 14,
    "start_time": "2022-10-27T14:52:10.722Z"
   },
   {
    "duration": 6,
    "start_time": "2022-10-27T14:52:10.738Z"
   },
   {
    "duration": 7,
    "start_time": "2022-10-27T14:52:10.746Z"
   },
   {
    "duration": 28,
    "start_time": "2022-10-27T14:52:10.754Z"
   },
   {
    "duration": 196,
    "start_time": "2022-10-27T14:52:10.784Z"
   },
   {
    "duration": 38,
    "start_time": "2022-10-27T14:52:10.982Z"
   },
   {
    "duration": 189,
    "start_time": "2022-10-27T14:52:11.022Z"
   },
   {
    "duration": 26,
    "start_time": "2022-10-27T14:52:11.213Z"
   },
   {
    "duration": 169,
    "start_time": "2022-10-27T14:52:11.241Z"
   },
   {
    "duration": 18,
    "start_time": "2022-10-27T14:52:11.412Z"
   },
   {
    "duration": 7,
    "start_time": "2022-10-27T14:52:11.432Z"
   },
   {
    "duration": 236,
    "start_time": "2022-10-27T14:57:27.021Z"
   },
   {
    "duration": 68,
    "start_time": "2022-10-27T14:57:39.290Z"
   },
   {
    "duration": 52,
    "start_time": "2022-10-27T15:13:19.988Z"
   },
   {
    "duration": 3,
    "start_time": "2022-10-27T15:13:25.457Z"
   },
   {
    "duration": 483,
    "start_time": "2022-10-27T15:13:25.464Z"
   },
   {
    "duration": 0,
    "start_time": "2022-10-27T15:13:25.974Z"
   },
   {
    "duration": 0,
    "start_time": "2022-10-27T15:13:25.975Z"
   },
   {
    "duration": 0,
    "start_time": "2022-10-27T15:13:25.976Z"
   },
   {
    "duration": 0,
    "start_time": "2022-10-27T15:13:25.977Z"
   },
   {
    "duration": 0,
    "start_time": "2022-10-27T15:13:25.978Z"
   },
   {
    "duration": 0,
    "start_time": "2022-10-27T15:13:25.979Z"
   },
   {
    "duration": 0,
    "start_time": "2022-10-27T15:13:25.980Z"
   },
   {
    "duration": 0,
    "start_time": "2022-10-27T15:13:25.981Z"
   },
   {
    "duration": 0,
    "start_time": "2022-10-27T15:13:25.982Z"
   },
   {
    "duration": 0,
    "start_time": "2022-10-27T15:13:25.983Z"
   },
   {
    "duration": 0,
    "start_time": "2022-10-27T15:13:25.984Z"
   },
   {
    "duration": 0,
    "start_time": "2022-10-27T15:13:25.985Z"
   },
   {
    "duration": 0,
    "start_time": "2022-10-27T15:13:25.986Z"
   },
   {
    "duration": 0,
    "start_time": "2022-10-27T15:13:25.987Z"
   },
   {
    "duration": 3665,
    "start_time": "2022-10-27T15:13:55.051Z"
   },
   {
    "duration": 2069,
    "start_time": "2022-10-27T15:14:17.223Z"
   },
   {
    "duration": 3,
    "start_time": "2022-10-27T15:14:20.786Z"
   },
   {
    "duration": 2110,
    "start_time": "2022-10-27T15:14:31.293Z"
   },
   {
    "duration": 3,
    "start_time": "2022-10-27T15:14:33.405Z"
   },
   {
    "duration": 121,
    "start_time": "2022-10-27T15:14:33.409Z"
   },
   {
    "duration": 18,
    "start_time": "2022-10-27T15:14:33.532Z"
   },
   {
    "duration": 4,
    "start_time": "2022-10-27T15:14:33.551Z"
   },
   {
    "duration": 16,
    "start_time": "2022-10-27T15:14:33.557Z"
   },
   {
    "duration": 4,
    "start_time": "2022-10-27T15:14:33.575Z"
   },
   {
    "duration": 7,
    "start_time": "2022-10-27T15:14:33.581Z"
   },
   {
    "duration": 26,
    "start_time": "2022-10-27T15:14:33.590Z"
   },
   {
    "duration": 3,
    "start_time": "2022-10-27T15:14:33.619Z"
   },
   {
    "duration": 1008,
    "start_time": "2022-10-27T15:14:33.623Z"
   },
   {
    "duration": 15,
    "start_time": "2022-10-27T15:14:34.632Z"
   },
   {
    "duration": 7,
    "start_time": "2022-10-27T15:14:34.649Z"
   },
   {
    "duration": 4,
    "start_time": "2022-10-27T15:14:34.658Z"
   },
   {
    "duration": 8,
    "start_time": "2022-10-27T15:14:34.663Z"
   },
   {
    "duration": 10,
    "start_time": "2022-10-27T15:14:39.173Z"
   },
   {
    "duration": 441,
    "start_time": "2022-10-27T15:14:40.443Z"
   },
   {
    "duration": 13,
    "start_time": "2022-10-27T15:14:47.647Z"
   },
   {
    "duration": 2038,
    "start_time": "2022-10-27T15:15:37.949Z"
   },
   {
    "duration": 4,
    "start_time": "2022-10-27T15:15:39.989Z"
   },
   {
    "duration": 108,
    "start_time": "2022-10-27T15:15:39.994Z"
   },
   {
    "duration": 11,
    "start_time": "2022-10-27T15:15:40.104Z"
   },
   {
    "duration": 6,
    "start_time": "2022-10-27T15:15:40.117Z"
   },
   {
    "duration": 23,
    "start_time": "2022-10-27T15:15:40.125Z"
   },
   {
    "duration": 8,
    "start_time": "2022-10-27T15:15:40.149Z"
   },
   {
    "duration": 8,
    "start_time": "2022-10-27T15:15:40.158Z"
   },
   {
    "duration": 15,
    "start_time": "2022-10-27T15:15:40.168Z"
   },
   {
    "duration": 3,
    "start_time": "2022-10-27T15:15:40.185Z"
   },
   {
    "duration": 1020,
    "start_time": "2022-10-27T15:15:40.189Z"
   },
   {
    "duration": 16,
    "start_time": "2022-10-27T15:15:41.210Z"
   },
   {
    "duration": 13,
    "start_time": "2022-10-27T15:15:41.228Z"
   },
   {
    "duration": 27,
    "start_time": "2022-10-27T15:15:41.242Z"
   },
   {
    "duration": 21,
    "start_time": "2022-10-27T15:15:41.271Z"
   },
   {
    "duration": 21,
    "start_time": "2022-10-27T15:15:41.294Z"
   },
   {
    "duration": 59,
    "start_time": "2022-10-27T15:15:41.316Z"
   },
   {
    "duration": 10,
    "start_time": "2022-10-27T15:15:41.376Z"
   },
   {
    "duration": 28,
    "start_time": "2022-10-27T15:15:41.388Z"
   },
   {
    "duration": 33,
    "start_time": "2022-10-27T15:15:41.418Z"
   },
   {
    "duration": 91,
    "start_time": "2022-10-27T15:15:41.453Z"
   },
   {
    "duration": 5,
    "start_time": "2022-10-27T15:15:41.545Z"
   },
   {
    "duration": 22,
    "start_time": "2022-10-27T15:15:41.551Z"
   },
   {
    "duration": 25,
    "start_time": "2022-10-27T15:15:41.575Z"
   },
   {
    "duration": 24,
    "start_time": "2022-10-27T15:15:41.602Z"
   },
   {
    "duration": 23,
    "start_time": "2022-10-27T15:15:41.628Z"
   },
   {
    "duration": 69,
    "start_time": "2022-10-27T15:16:11.214Z"
   },
   {
    "duration": 2113,
    "start_time": "2022-10-27T15:16:23.737Z"
   },
   {
    "duration": 3,
    "start_time": "2022-10-27T15:16:25.852Z"
   },
   {
    "duration": 79,
    "start_time": "2022-10-27T15:16:25.857Z"
   },
   {
    "duration": 15,
    "start_time": "2022-10-27T15:16:25.938Z"
   },
   {
    "duration": 6,
    "start_time": "2022-10-27T15:16:25.954Z"
   },
   {
    "duration": 16,
    "start_time": "2022-10-27T15:16:25.961Z"
   },
   {
    "duration": 4,
    "start_time": "2022-10-27T15:16:25.978Z"
   },
   {
    "duration": 7,
    "start_time": "2022-10-27T15:16:25.983Z"
   },
   {
    "duration": 26,
    "start_time": "2022-10-27T15:16:25.991Z"
   },
   {
    "duration": 3,
    "start_time": "2022-10-27T15:16:26.020Z"
   },
   {
    "duration": 1085,
    "start_time": "2022-10-27T15:16:26.024Z"
   },
   {
    "duration": 17,
    "start_time": "2022-10-27T15:16:27.110Z"
   },
   {
    "duration": 9,
    "start_time": "2022-10-27T15:16:27.129Z"
   },
   {
    "duration": 4,
    "start_time": "2022-10-27T15:16:27.140Z"
   },
   {
    "duration": 5,
    "start_time": "2022-10-27T15:16:27.145Z"
   },
   {
    "duration": 9,
    "start_time": "2022-10-27T15:16:27.152Z"
   },
   {
    "duration": 72,
    "start_time": "2022-10-27T15:16:27.163Z"
   },
   {
    "duration": 10,
    "start_time": "2022-10-27T15:16:27.237Z"
   },
   {
    "duration": 16,
    "start_time": "2022-10-27T15:16:27.249Z"
   },
   {
    "duration": 20,
    "start_time": "2022-10-27T15:16:27.267Z"
   },
   {
    "duration": 102,
    "start_time": "2022-10-27T15:16:27.288Z"
   },
   {
    "duration": 5,
    "start_time": "2022-10-27T15:16:27.409Z"
   },
   {
    "duration": 5,
    "start_time": "2022-10-27T15:16:27.415Z"
   },
   {
    "duration": 11,
    "start_time": "2022-10-27T15:16:27.421Z"
   },
   {
    "duration": 7,
    "start_time": "2022-10-27T15:16:27.433Z"
   },
   {
    "duration": 10,
    "start_time": "2022-10-27T15:16:27.441Z"
   },
   {
    "duration": 76,
    "start_time": "2022-10-27T15:16:27.453Z"
   },
   {
    "duration": 2,
    "start_time": "2022-10-27T15:16:27.532Z"
   },
   {
    "duration": 13,
    "start_time": "2022-10-27T15:16:27.536Z"
   },
   {
    "duration": 11,
    "start_time": "2022-10-27T15:16:27.551Z"
   },
   {
    "duration": 95,
    "start_time": "2022-10-27T15:16:27.564Z"
   },
   {
    "duration": 6,
    "start_time": "2022-10-27T15:16:27.660Z"
   },
   {
    "duration": 782,
    "start_time": "2022-10-27T15:16:27.667Z"
   },
   {
    "duration": 5,
    "start_time": "2022-10-27T15:16:28.450Z"
   },
   {
    "duration": 65,
    "start_time": "2022-10-27T15:16:28.456Z"
   },
   {
    "duration": 5,
    "start_time": "2022-10-27T15:16:28.522Z"
   },
   {
    "duration": 7,
    "start_time": "2022-10-27T15:16:28.528Z"
   },
   {
    "duration": 92,
    "start_time": "2022-10-27T15:16:28.537Z"
   },
   {
    "duration": 9,
    "start_time": "2022-10-27T15:16:28.630Z"
   },
   {
    "duration": 86,
    "start_time": "2022-10-27T15:16:28.641Z"
   },
   {
    "duration": 9,
    "start_time": "2022-10-27T15:16:28.728Z"
   },
   {
    "duration": 18,
    "start_time": "2022-10-27T15:16:28.739Z"
   },
   {
    "duration": 56,
    "start_time": "2022-10-27T15:16:28.758Z"
   },
   {
    "duration": 11,
    "start_time": "2022-10-27T15:16:28.816Z"
   },
   {
    "duration": 144,
    "start_time": "2022-10-27T15:16:28.828Z"
   },
   {
    "duration": 13,
    "start_time": "2022-10-27T15:16:28.973Z"
   },
   {
    "duration": 24,
    "start_time": "2022-10-27T15:16:28.988Z"
   },
   {
    "duration": 8,
    "start_time": "2022-10-27T15:16:29.014Z"
   },
   {
    "duration": 29,
    "start_time": "2022-10-27T15:16:29.023Z"
   },
   {
    "duration": 179,
    "start_time": "2022-10-27T15:16:29.054Z"
   },
   {
    "duration": 27,
    "start_time": "2022-10-27T15:16:29.235Z"
   },
   {
    "duration": 184,
    "start_time": "2022-10-27T15:16:29.264Z"
   },
   {
    "duration": 20,
    "start_time": "2022-10-27T15:16:29.450Z"
   },
   {
    "duration": 176,
    "start_time": "2022-10-27T15:16:29.472Z"
   },
   {
    "duration": 11,
    "start_time": "2022-10-27T15:16:29.649Z"
   },
   {
    "duration": 6,
    "start_time": "2022-10-27T15:16:29.662Z"
   },
   {
    "duration": 6,
    "start_time": "2022-10-27T15:21:55.429Z"
   },
   {
    "duration": 14,
    "start_time": "2022-10-27T15:23:02.709Z"
   },
   {
    "duration": 9,
    "start_time": "2022-10-27T15:23:05.446Z"
   },
   {
    "duration": 14,
    "start_time": "2022-10-27T15:23:14.750Z"
   },
   {
    "duration": 9,
    "start_time": "2022-10-27T15:23:16.863Z"
   },
   {
    "duration": 13,
    "start_time": "2022-10-27T15:23:43.084Z"
   },
   {
    "duration": 10,
    "start_time": "2022-10-27T15:23:44.686Z"
   },
   {
    "duration": 10,
    "start_time": "2022-10-27T15:23:48.036Z"
   },
   {
    "duration": 2098,
    "start_time": "2022-10-27T15:24:15.426Z"
   },
   {
    "duration": 4,
    "start_time": "2022-10-27T15:24:17.526Z"
   },
   {
    "duration": 81,
    "start_time": "2022-10-27T15:24:17.532Z"
   },
   {
    "duration": 11,
    "start_time": "2022-10-27T15:24:17.616Z"
   },
   {
    "duration": 32,
    "start_time": "2022-10-27T15:24:17.629Z"
   },
   {
    "duration": 24,
    "start_time": "2022-10-27T15:24:17.663Z"
   },
   {
    "duration": 8,
    "start_time": "2022-10-27T15:24:17.688Z"
   },
   {
    "duration": 9,
    "start_time": "2022-10-27T15:24:17.698Z"
   },
   {
    "duration": 28,
    "start_time": "2022-10-27T15:24:17.709Z"
   },
   {
    "duration": 3,
    "start_time": "2022-10-27T15:24:17.740Z"
   },
   {
    "duration": 1068,
    "start_time": "2022-10-27T15:24:17.744Z"
   },
   {
    "duration": 16,
    "start_time": "2022-10-27T15:24:18.814Z"
   },
   {
    "duration": 56,
    "start_time": "2022-10-27T15:24:18.831Z"
   },
   {
    "duration": 48,
    "start_time": "2022-10-27T15:24:18.888Z"
   },
   {
    "duration": 20,
    "start_time": "2022-10-27T15:24:18.938Z"
   },
   {
    "duration": 47,
    "start_time": "2022-10-27T15:24:18.959Z"
   },
   {
    "duration": 65,
    "start_time": "2022-10-27T15:24:19.007Z"
   },
   {
    "duration": 14,
    "start_time": "2022-10-27T15:24:19.074Z"
   },
   {
    "duration": 66,
    "start_time": "2022-10-27T15:24:19.090Z"
   },
   {
    "duration": 51,
    "start_time": "2022-10-27T15:24:19.158Z"
   },
   {
    "duration": 94,
    "start_time": "2022-10-27T15:24:19.211Z"
   },
   {
    "duration": 5,
    "start_time": "2022-10-27T15:24:19.307Z"
   },
   {
    "duration": 29,
    "start_time": "2022-10-27T15:24:19.314Z"
   },
   {
    "duration": 10,
    "start_time": "2022-10-27T15:24:23.796Z"
   },
   {
    "duration": 5,
    "start_time": "2022-10-27T15:24:57.686Z"
   },
   {
    "duration": 15,
    "start_time": "2022-10-27T15:25:43.146Z"
   },
   {
    "duration": 5,
    "start_time": "2022-10-27T15:25:46.157Z"
   },
   {
    "duration": 9,
    "start_time": "2022-10-27T15:25:46.650Z"
   },
   {
    "duration": 4,
    "start_time": "2022-10-27T15:26:28.945Z"
   },
   {
    "duration": 10,
    "start_time": "2022-10-27T15:26:35.142Z"
   },
   {
    "duration": 4,
    "start_time": "2022-10-27T15:27:04.624Z"
   },
   {
    "duration": 82,
    "start_time": "2022-10-27T15:27:22.845Z"
   },
   {
    "duration": 42,
    "start_time": "2022-10-27T15:28:12.012Z"
   },
   {
    "duration": 59,
    "start_time": "2022-10-27T15:28:23.719Z"
   },
   {
    "duration": 14,
    "start_time": "2022-10-27T15:28:29.585Z"
   },
   {
    "duration": 10,
    "start_time": "2022-10-27T15:28:31.625Z"
   },
   {
    "duration": 10,
    "start_time": "2022-10-27T15:28:34.022Z"
   },
   {
    "duration": 5,
    "start_time": "2022-10-27T15:28:37.762Z"
   },
   {
    "duration": 4,
    "start_time": "2022-10-27T15:28:38.623Z"
   },
   {
    "duration": 79,
    "start_time": "2022-10-27T15:28:42.297Z"
   },
   {
    "duration": 2,
    "start_time": "2022-10-27T15:49:16.010Z"
   },
   {
    "duration": 9,
    "start_time": "2022-10-27T15:49:42.081Z"
   },
   {
    "duration": 12,
    "start_time": "2022-10-27T15:50:08.966Z"
   },
   {
    "duration": 72,
    "start_time": "2022-10-27T15:50:48.015Z"
   },
   {
    "duration": 12,
    "start_time": "2022-10-27T15:51:12.510Z"
   },
   {
    "duration": 166,
    "start_time": "2022-10-27T15:51:13.648Z"
   },
   {
    "duration": 13,
    "start_time": "2022-10-27T15:51:51.583Z"
   },
   {
    "duration": 69,
    "start_time": "2022-10-27T15:51:52.436Z"
   },
   {
    "duration": 5,
    "start_time": "2022-10-27T15:58:47.753Z"
   },
   {
    "duration": 54,
    "start_time": "2022-10-27T15:58:59.636Z"
   },
   {
    "duration": 5,
    "start_time": "2022-10-27T15:59:02.402Z"
   },
   {
    "duration": 56,
    "start_time": "2022-10-27T15:59:10.511Z"
   },
   {
    "duration": 4,
    "start_time": "2022-10-27T15:59:15.732Z"
   },
   {
    "duration": 5,
    "start_time": "2022-10-27T15:59:27.659Z"
   },
   {
    "duration": 74,
    "start_time": "2022-10-27T15:59:39.081Z"
   },
   {
    "duration": 10,
    "start_time": "2022-10-27T16:00:04.805Z"
   },
   {
    "duration": 74,
    "start_time": "2022-10-27T16:01:30.500Z"
   },
   {
    "duration": 8,
    "start_time": "2022-10-27T16:01:43.394Z"
   },
   {
    "duration": 9,
    "start_time": "2022-10-27T16:05:38.952Z"
   },
   {
    "duration": 44,
    "start_time": "2022-10-27T16:05:39.841Z"
   },
   {
    "duration": 14,
    "start_time": "2022-10-27T16:06:46.247Z"
   },
   {
    "duration": 11,
    "start_time": "2022-10-27T16:07:06.792Z"
   },
   {
    "duration": 11,
    "start_time": "2022-10-27T16:08:13.912Z"
   },
   {
    "duration": 70,
    "start_time": "2022-10-27T16:08:14.887Z"
   },
   {
    "duration": 9,
    "start_time": "2022-10-27T16:08:41.472Z"
   },
   {
    "duration": 47,
    "start_time": "2022-10-27T16:08:41.924Z"
   },
   {
    "duration": 12,
    "start_time": "2022-10-27T16:08:57.740Z"
   },
   {
    "duration": 125,
    "start_time": "2022-10-27T16:09:13.919Z"
   },
   {
    "duration": 130,
    "start_time": "2022-10-27T16:09:58.141Z"
   },
   {
    "duration": 14,
    "start_time": "2022-10-27T16:10:11.031Z"
   },
   {
    "duration": 146,
    "start_time": "2022-10-27T16:15:26.552Z"
   },
   {
    "duration": 6,
    "start_time": "2022-10-27T16:15:36.723Z"
   },
   {
    "duration": 17,
    "start_time": "2022-10-27T16:15:43.164Z"
   },
   {
    "duration": 6,
    "start_time": "2022-10-27T16:17:11.662Z"
   },
   {
    "duration": 7,
    "start_time": "2022-10-27T16:17:36.079Z"
   },
   {
    "duration": 3,
    "start_time": "2022-10-27T16:17:45.811Z"
   },
   {
    "duration": 24,
    "start_time": "2022-10-27T16:17:50.064Z"
   },
   {
    "duration": 183,
    "start_time": "2022-10-27T16:18:01.873Z"
   },
   {
    "duration": 43,
    "start_time": "2022-10-27T16:18:23.589Z"
   },
   {
    "duration": 23,
    "start_time": "2022-10-27T16:27:55.852Z"
   },
   {
    "duration": 170,
    "start_time": "2022-10-27T16:28:04.641Z"
   },
   {
    "duration": 21,
    "start_time": "2022-10-27T16:33:58.836Z"
   },
   {
    "duration": 176,
    "start_time": "2022-10-27T16:35:11.107Z"
   },
   {
    "duration": 21,
    "start_time": "2022-10-27T16:43:19.030Z"
   },
   {
    "duration": 9,
    "start_time": "2022-10-27T17:02:36.275Z"
   },
   {
    "duration": 6,
    "start_time": "2022-10-27T17:02:52.624Z"
   },
   {
    "duration": 10,
    "start_time": "2022-10-27T17:06:40.958Z"
   },
   {
    "duration": 10,
    "start_time": "2022-10-27T17:06:52.290Z"
   },
   {
    "duration": 7,
    "start_time": "2022-10-27T17:07:11.632Z"
   },
   {
    "duration": 17,
    "start_time": "2022-10-27T17:07:37.515Z"
   },
   {
    "duration": 6,
    "start_time": "2022-10-27T17:07:47.177Z"
   },
   {
    "duration": 8,
    "start_time": "2022-10-27T17:08:02.656Z"
   },
   {
    "duration": 2106,
    "start_time": "2022-10-27T17:08:09.067Z"
   },
   {
    "duration": 4,
    "start_time": "2022-10-27T17:08:11.176Z"
   },
   {
    "duration": 84,
    "start_time": "2022-10-27T17:08:11.181Z"
   },
   {
    "duration": 13,
    "start_time": "2022-10-27T17:08:11.269Z"
   },
   {
    "duration": 7,
    "start_time": "2022-10-27T17:08:11.284Z"
   },
   {
    "duration": 19,
    "start_time": "2022-10-27T17:08:11.293Z"
   },
   {
    "duration": 4,
    "start_time": "2022-10-27T17:08:11.313Z"
   },
   {
    "duration": 13,
    "start_time": "2022-10-27T17:08:11.319Z"
   },
   {
    "duration": 17,
    "start_time": "2022-10-27T17:08:11.334Z"
   },
   {
    "duration": 3,
    "start_time": "2022-10-27T17:08:11.354Z"
   },
   {
    "duration": 1098,
    "start_time": "2022-10-27T17:08:11.358Z"
   },
   {
    "duration": 20,
    "start_time": "2022-10-27T17:08:12.458Z"
   },
   {
    "duration": 7,
    "start_time": "2022-10-27T17:08:12.480Z"
   },
   {
    "duration": 23,
    "start_time": "2022-10-27T17:08:12.488Z"
   },
   {
    "duration": 7,
    "start_time": "2022-10-27T17:08:12.513Z"
   },
   {
    "duration": 9,
    "start_time": "2022-10-27T17:08:12.521Z"
   },
   {
    "duration": 46,
    "start_time": "2022-10-27T17:08:12.532Z"
   },
   {
    "duration": 31,
    "start_time": "2022-10-27T17:08:12.579Z"
   },
   {
    "duration": 20,
    "start_time": "2022-10-27T17:08:12.612Z"
   },
   {
    "duration": 16,
    "start_time": "2022-10-27T17:08:12.634Z"
   },
   {
    "duration": 102,
    "start_time": "2022-10-27T17:08:12.652Z"
   },
   {
    "duration": 5,
    "start_time": "2022-10-27T17:08:12.755Z"
   },
   {
    "duration": 17,
    "start_time": "2022-10-27T17:08:12.762Z"
   },
   {
    "duration": 9,
    "start_time": "2022-10-27T17:08:12.781Z"
   },
   {
    "duration": 17,
    "start_time": "2022-10-27T17:08:12.792Z"
   },
   {
    "duration": 5,
    "start_time": "2022-10-27T17:08:12.810Z"
   },
   {
    "duration": 92,
    "start_time": "2022-10-27T17:08:12.817Z"
   },
   {
    "duration": 2,
    "start_time": "2022-10-27T17:08:12.913Z"
   },
   {
    "duration": 11,
    "start_time": "2022-10-27T17:08:12.916Z"
   },
   {
    "duration": 11,
    "start_time": "2022-10-27T17:08:12.928Z"
   },
   {
    "duration": 91,
    "start_time": "2022-10-27T17:08:12.941Z"
   },
   {
    "duration": 6,
    "start_time": "2022-10-27T17:08:13.034Z"
   },
   {
    "duration": 72,
    "start_time": "2022-10-27T17:08:13.042Z"
   },
   {
    "duration": 5,
    "start_time": "2022-10-27T17:08:13.116Z"
   },
   {
    "duration": 67,
    "start_time": "2022-10-27T17:08:13.123Z"
   },
   {
    "duration": 20,
    "start_time": "2022-10-27T17:08:13.192Z"
   },
   {
    "duration": 12,
    "start_time": "2022-10-27T17:08:13.213Z"
   },
   {
    "duration": 89,
    "start_time": "2022-10-27T17:08:13.227Z"
   },
   {
    "duration": 9,
    "start_time": "2022-10-27T17:08:13.318Z"
   },
   {
    "duration": 211,
    "start_time": "2022-10-27T17:08:13.328Z"
   },
   {
    "duration": 9,
    "start_time": "2022-10-27T17:08:13.540Z"
   },
   {
    "duration": 14,
    "start_time": "2022-10-27T17:08:13.551Z"
   },
   {
    "duration": 64,
    "start_time": "2022-10-27T17:08:13.567Z"
   },
   {
    "duration": 13,
    "start_time": "2022-10-27T17:08:13.632Z"
   },
   {
    "duration": 143,
    "start_time": "2022-10-27T17:08:13.646Z"
   },
   {
    "duration": 24,
    "start_time": "2022-10-27T17:08:13.791Z"
   },
   {
    "duration": 7,
    "start_time": "2022-10-27T17:08:13.817Z"
   },
   {
    "duration": 6,
    "start_time": "2022-10-27T17:08:13.826Z"
   },
   {
    "duration": 8,
    "start_time": "2022-10-27T17:08:13.834Z"
   },
   {
    "duration": 24,
    "start_time": "2022-10-27T17:08:13.843Z"
   },
   {
    "duration": 191,
    "start_time": "2022-10-27T17:08:13.868Z"
   },
   {
    "duration": 23,
    "start_time": "2022-10-27T17:08:14.061Z"
   },
   {
    "duration": 190,
    "start_time": "2022-10-27T17:08:14.086Z"
   },
   {
    "duration": 35,
    "start_time": "2022-10-27T17:08:14.277Z"
   },
   {
    "duration": 180,
    "start_time": "2022-10-27T17:08:14.314Z"
   },
   {
    "duration": 7,
    "start_time": "2022-10-27T17:08:45.758Z"
   },
   {
    "duration": 7,
    "start_time": "2022-10-27T17:09:35.369Z"
   },
   {
    "duration": 7,
    "start_time": "2022-10-27T17:09:59.811Z"
   },
   {
    "duration": 2050,
    "start_time": "2022-10-27T17:34:46.923Z"
   },
   {
    "duration": 3,
    "start_time": "2022-10-27T17:34:48.975Z"
   },
   {
    "duration": 90,
    "start_time": "2022-10-27T17:34:48.979Z"
   },
   {
    "duration": 12,
    "start_time": "2022-10-27T17:34:49.072Z"
   },
   {
    "duration": 12,
    "start_time": "2022-10-27T17:34:49.085Z"
   },
   {
    "duration": 23,
    "start_time": "2022-10-27T17:34:49.099Z"
   },
   {
    "duration": 4,
    "start_time": "2022-10-27T17:34:49.123Z"
   },
   {
    "duration": 6,
    "start_time": "2022-10-27T17:34:49.129Z"
   },
   {
    "duration": 14,
    "start_time": "2022-10-27T17:34:49.136Z"
   },
   {
    "duration": 21,
    "start_time": "2022-10-27T17:34:49.153Z"
   },
   {
    "duration": 1036,
    "start_time": "2022-10-27T17:34:49.176Z"
   },
   {
    "duration": 15,
    "start_time": "2022-10-27T17:34:50.214Z"
   },
   {
    "duration": 7,
    "start_time": "2022-10-27T17:34:50.231Z"
   },
   {
    "duration": 6,
    "start_time": "2022-10-27T17:34:50.239Z"
   },
   {
    "duration": 5,
    "start_time": "2022-10-27T17:34:50.246Z"
   },
   {
    "duration": 13,
    "start_time": "2022-10-27T17:34:50.252Z"
   },
   {
    "duration": 69,
    "start_time": "2022-10-27T17:34:50.267Z"
   },
   {
    "duration": 10,
    "start_time": "2022-10-27T17:34:50.338Z"
   },
   {
    "duration": 15,
    "start_time": "2022-10-27T17:34:50.349Z"
   },
   {
    "duration": 16,
    "start_time": "2022-10-27T17:34:50.366Z"
   },
   {
    "duration": 101,
    "start_time": "2022-10-27T17:34:50.384Z"
   },
   {
    "duration": 5,
    "start_time": "2022-10-27T17:34:50.487Z"
   },
   {
    "duration": 20,
    "start_time": "2022-10-27T17:34:50.509Z"
   },
   {
    "duration": 21,
    "start_time": "2022-10-27T17:34:50.531Z"
   },
   {
    "duration": 34,
    "start_time": "2022-10-27T17:34:50.554Z"
   },
   {
    "duration": 27,
    "start_time": "2022-10-27T17:34:50.589Z"
   },
   {
    "duration": 102,
    "start_time": "2022-10-27T17:34:50.617Z"
   },
   {
    "duration": 3,
    "start_time": "2022-10-27T17:34:50.722Z"
   },
   {
    "duration": 27,
    "start_time": "2022-10-27T17:34:50.727Z"
   },
   {
    "duration": 26,
    "start_time": "2022-10-27T17:34:50.755Z"
   },
   {
    "duration": 73,
    "start_time": "2022-10-27T17:34:50.783Z"
   },
   {
    "duration": 7,
    "start_time": "2022-10-27T17:34:50.857Z"
   },
   {
    "duration": 69,
    "start_time": "2022-10-27T17:34:50.866Z"
   },
   {
    "duration": 6,
    "start_time": "2022-10-27T17:34:50.936Z"
   },
   {
    "duration": 75,
    "start_time": "2022-10-27T17:34:50.944Z"
   },
   {
    "duration": 5,
    "start_time": "2022-10-27T17:34:51.021Z"
   },
   {
    "duration": 10,
    "start_time": "2022-10-27T17:34:51.028Z"
   },
   {
    "duration": 97,
    "start_time": "2022-10-27T17:34:51.039Z"
   },
   {
    "duration": 10,
    "start_time": "2022-10-27T17:34:51.138Z"
   },
   {
    "duration": 86,
    "start_time": "2022-10-27T17:34:51.150Z"
   },
   {
    "duration": 12,
    "start_time": "2022-10-27T17:34:51.238Z"
   },
   {
    "duration": 22,
    "start_time": "2022-10-27T17:34:51.252Z"
   },
   {
    "duration": 69,
    "start_time": "2022-10-27T17:34:51.277Z"
   },
   {
    "duration": 11,
    "start_time": "2022-10-27T17:34:51.348Z"
   },
   {
    "duration": 140,
    "start_time": "2022-10-27T17:34:51.361Z"
   },
   {
    "duration": 17,
    "start_time": "2022-10-27T17:34:51.508Z"
   },
   {
    "duration": 11,
    "start_time": "2022-10-27T17:34:51.528Z"
   },
   {
    "duration": 24,
    "start_time": "2022-10-27T17:34:51.541Z"
   },
   {
    "duration": 16,
    "start_time": "2022-10-27T17:34:51.567Z"
   },
   {
    "duration": 32,
    "start_time": "2022-10-27T17:34:51.584Z"
   },
   {
    "duration": 165,
    "start_time": "2022-10-27T17:34:51.618Z"
   },
   {
    "duration": 41,
    "start_time": "2022-10-27T17:34:51.784Z"
   },
   {
    "duration": 172,
    "start_time": "2022-10-27T17:34:51.826Z"
   },
   {
    "duration": 19,
    "start_time": "2022-10-27T17:34:52.008Z"
   },
   {
    "duration": 156,
    "start_time": "2022-10-27T17:34:52.029Z"
   },
   {
    "duration": 7,
    "start_time": "2022-10-27T17:34:52.187Z"
   },
   {
    "duration": 28,
    "start_time": "2022-10-27T17:34:52.209Z"
   },
   {
    "duration": 3,
    "start_time": "2022-10-27T17:35:25.570Z"
   }
  ],
  "kernelspec": {
   "display_name": "Python 3 (ipykernel)",
   "language": "python",
   "name": "python3"
  },
  "language_info": {
   "codemirror_mode": {
    "name": "ipython",
    "version": 3
   },
   "file_extension": ".py",
   "mimetype": "text/x-python",
   "name": "python",
   "nbconvert_exporter": "python",
   "pygments_lexer": "ipython3",
   "version": "3.9.12"
  },
  "toc": {
   "base_numbering": 1,
   "nav_menu": {},
   "number_sections": true,
   "sideBar": true,
   "skip_h1_title": true,
   "title_cell": "Table of Contents",
   "title_sidebar": "Contents",
   "toc_cell": false,
   "toc_position": {},
   "toc_section_display": true,
   "toc_window_display": false
  }
 },
 "nbformat": 4,
 "nbformat_minor": 5
}
